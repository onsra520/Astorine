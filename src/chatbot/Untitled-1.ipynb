{
 "cells": [
  {
   "cell_type": "code",
   "execution_count": 1,
   "metadata": {},
   "outputs": [],
   "source": [
    "from chatbot_runing import chatbot_handle"
   ]
  },
  {
   "cell_type": "code",
   "execution_count": 2,
   "metadata": {},
   "outputs": [
    {
     "data": {
      "text/plain": [
       "'🤑 How much money are you planning to invest?'"
      ]
     },
     "execution_count": 2,
     "metadata": {},
     "output_type": "execute_result"
    }
   ],
   "source": [
    "input_text = \"tìm cho tôi con laptop có rtx 4060, 16gb ram, core i7, 1tb ssd\"\n",
    "chatbot_handle(\"dep_trai_nhat_qua_dat\", input_text)"
   ]
  },
  {
   "cell_type": "code",
   "execution_count": 3,
   "metadata": {},
   "outputs": [
    {
     "data": {
      "text/plain": [
       "'Here are the laptops I found:\\n1. Gigabyte Aero 15 OLED Intel Core i7-11800H 2.3GHz / Nvidia GeForce RTX 3080 Laptop / 64GB RAM / 512GB SSD\\n2. Gigabyte Aero 15 OLED YD Intel Core i7-11800H 2.3GHz / Nvidia GeForce RTX 3080 Laptop / 64GB RAM / 512GB SSD\\n3. Acer Predator Triton 500 SE 16 Inches (2022) Intel Core i7-11800H 2.4GHz / Nvidia GeForce RTX 3080 Laptop / 16GB RAM / 512GB SSD\\n4. Gigabyte Aero 15 OLED XD Intel Core i7-11800H 2.3GHz / Nvidia GeForce RTX 3070 Laptop / 16GB RAM / 512GB SSD\\n5. XPG Xenia 15 KC Intel Core i7-11800H 2.3GHz / Nvidia GeForce RTX 3070 Laptop / 32GB RAM / 512GB SSD\\nI think they are good for you.'"
      ]
     },
     "execution_count": 3,
     "metadata": {},
     "output_type": "execute_result"
    }
   ],
   "source": [
    "input_text = \" 1800$\"\n",
    "chatbot_handle(\"dep_trai_nhat_qua_dat\", input_text)"
   ]
  },
  {
   "cell_type": "code",
   "execution_count": null,
   "metadata": {},
   "outputs": [],
   "source": []
  }
 ],
 "metadata": {
  "kernelspec": {
   "display_name": "Astorine",
   "language": "python",
   "name": "python3"
  },
  "language_info": {
   "codemirror_mode": {
    "name": "ipython",
    "version": 3
   },
   "file_extension": ".py",
   "mimetype": "text/x-python",
   "name": "python",
   "nbconvert_exporter": "python",
   "pygments_lexer": "ipython3",
   "version": "3.11.11"
  }
 },
 "nbformat": 4,
 "nbformat_minor": 2
}
