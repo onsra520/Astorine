{
 "cells": [
  {
   "cell_type": "code",
   "execution_count": 3,
   "metadata": {},
   "outputs": [],
   "source": [
    "from ASTORINE import chatbot_handle"
   ]
  },
  {
   "cell_type": "code",
   "execution_count": 4,
   "metadata": {},
   "outputs": [
    {
     "name": "stdout",
     "output_type": "stream",
     "text": [
      "💰 What is your budget for this purchase?\n"
     ]
    }
   ],
   "source": [
    "while True:\n",
    "    user_id = \"user_dep_trai_nhat_qua_dat\"\n",
    "    user_input = input(\"User: \")\n",
    "    if user_input == \"bye\":\n",
    "        break\n",
    "    print(chatbot_handle(user_id, user_input))"
   ]
  }
 ],
 "metadata": {
  "kernelspec": {
   "display_name": "Astorine",
   "language": "python",
   "name": "python3"
  },
  "language_info": {
   "codemirror_mode": {
    "name": "ipython",
    "version": 3
   },
   "file_extension": ".py",
   "mimetype": "text/x-python",
   "name": "python",
   "nbconvert_exporter": "python",
   "pygments_lexer": "ipython3",
   "version": "3.11.11"
  }
 },
 "nbformat": 4,
 "nbformat_minor": 2
}
