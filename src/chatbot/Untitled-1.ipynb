{
 "cells": [
  {
   "cell_type": "code",
   "execution_count": 21,
   "metadata": {},
   "outputs": [],
   "source": [
    "__file__ = \"astorine.py\""
   ]
  },
  {
   "cell_type": "code",
   "execution_count": null,
   "metadata": {},
   "outputs": [],
   "source": [
    "import sys, os\n",
    "from pathlib import Path\n",
    "sys.path.append(str(Path(__file__).parent))\n",
    "from astorine import reply\n"
   ]
  },
  {
   "cell_type": "code",
   "execution_count": 4,
   "metadata": {},
   "outputs": [],
   "source": [
    "project_root = str(Path(__file__).parent)\n",
    "paths = {\n",
    "    \"intents\": os.path.abspath(f\"{project_root}/intents\"),\n",
    "    \"intents\": os.path.abspath(f\"{project_root}/intents/intents.json\"),\n",
    "    \"replymodel\": os.path.abspath(f\"{project_root}/models/replymodel.pth\"),\n",
    "}"
   ]
  },
  {
   "cell_type": "code",
   "execution_count": null,
   "metadata": {},
   "outputs": [],
   "source": []
  },
  {
   "cell_type": "code",
   "execution_count": 6,
   "metadata": {},
   "outputs": [
    {
     "data": {
      "text/plain": [
       "'Astorine: Your order is just a few hours away from you.'"
      ]
     },
     "execution_count": 6,
     "metadata": {},
     "output_type": "execute_result"
    }
   ],
   "source": [
    "query = \"How long does delivery take?\"\n",
    "reply(query=query)"
   ]
  },
  {
   "cell_type": "code",
   "execution_count": null,
   "metadata": {},
   "outputs": [],
   "source": [
    "sessions = {}\n",
    "class chatbot_session:\n",
    "    def __init__(self):\n",
    "        self.current_flow = \"guided\"  # 'guided' hoặc 'search'\n",
    "        self.context = None           # ví dụ: \"Need_help\", \"collecting_criteria\", v.v.\n",
    "        self.criteria = {}            # lưu trữ các tiêu chí: brand, gpu, cpu, ...\n",
    "        self.previous_flow = None     # lưu flow tạm thời khi trả lời FAQ\n",
    "\n",
    "def get_session(user_id):\n",
    "    if user_id not in sessions:\n",
    "        sessions[user_id] = chatbot_session()\n",
    "    return sessions[user_id]\n"
   ]
  },
  {
   "cell_type": "code",
   "execution_count": null,
   "metadata": {},
   "outputs": [],
   "source": [
    "def update_session(session: chatbot_session, user_input: str):\n",
    "    lower_input = user_input.lower()"
   ]
  }
 ],
 "metadata": {
  "kernelspec": {
   "display_name": "Astorine",
   "language": "python",
   "name": "python3"
  },
  "language_info": {
   "codemirror_mode": {
    "name": "ipython",
    "version": 3
   },
   "file_extension": ".py",
   "mimetype": "text/x-python",
   "name": "python",
   "nbconvert_exporter": "python",
   "pygments_lexer": "ipython3",
   "version": "3.11.11"
  }
 },
 "nbformat": 4,
 "nbformat_minor": 2
}
