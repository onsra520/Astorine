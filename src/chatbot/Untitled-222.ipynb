{
 "cells": [
  {
   "cell_type": "code",
   "execution_count": null,
   "metadata": {},
   "outputs": [],
   "source": [
    "from nlp.extractor import apply_filters\n",
    "from nlp.helper.qgene import question_generation"
   ]
  },
  {
   "cell_type": "code",
   "execution_count": 13,
   "metadata": {},
   "outputs": [
    {
     "data": {
      "application/vnd.microsoft.datawrangler.viewer.v0+json": {
       "columns": [
        {
         "name": "index",
         "rawType": "int64",
         "type": "integer"
        },
        {
         "name": "question",
         "rawType": "object",
         "type": "string"
        },
        {
         "name": "cpu",
         "rawType": "object",
         "type": "string"
        },
        {
         "name": "gpu",
         "rawType": "object",
         "type": "string"
        },
        {
         "name": "ram",
         "rawType": "object",
         "type": "string"
        },
        {
         "name": "display",
         "rawType": "object",
         "type": "string"
        },
        {
         "name": "refresh rate",
         "rawType": "object",
         "type": "string"
        },
        {
         "name": "brand",
         "rawType": "object",
         "type": "string"
        },
        {
         "name": "price",
         "rawType": "object",
         "type": "string"
        }
       ],
       "conversionMethod": "pd.DataFrame",
       "ref": "4b208f1a-02ec-405b-9ad7-bae067308db5",
       "rows": [
        [
         "0",
         "Suggest some laptops created by the team at hp, having these features amd ryzen 7 4th in addition to nvidia t500 coupled with ram 12gb ; wqxga screen resolution & 90hz capable of running the latest AAA titles within the interval of $unknown to $1459.",
         "amd ryzen 7 4th",
         "nvidia t500",
         "ram 12gb",
         "wqxga screen resolution",
         "90hz",
         "hp",
         "within the interval of $unknown to $1459"
        ],
        [
         "1",
         "amd ryzen ai 5 6th alongside nvidia geforce rtx 3070 together with 40gb along with 16:10 4k+ display resolution not to mention 60hz laptop . It is offered by gigabyte, designed to foster capable of handling large-scale data analytics? in the region of unknown dollars.",
         "amd ryzen ai 5 6th",
         "nvidia geforce rtx 3070",
         "40gb",
         "16:10 4k+ display resolution",
         "60hz",
         "gigabyte",
         "in the region of unknown dollars"
        ],
        [
         "2",
         "core ultra 7 and rtx 4050 joined by 12gb together with 3840 x 2160 ; 300hz laptop . This item comes courtesy of razer, optimized for optimized for running advanced gaming graphics tasks? Maximum spending limit: unknown..",
         "core ultra 7",
         "rtx 4050",
         "12gb",
         "3840 x 2160",
         "300hz",
         "razer",
         "Maximum spending limit: unknown."
        ],
        [
         "3",
         "Let’s look at laptops crafted by asus, that include intel core ultra 7 155 series along with nvidia rtx 2000 ada ; ram 32gb besides 4k uhd display resolution & 144hz capable of handling multiple applications simultaneously The maximum budget is $3444..",
         "intel core ultra 7 155 series",
         "nvidia rtx 2000 ada",
         "ram 32gb",
         "4k uhd display resolution",
         "144hz",
         "asus",
         "The maximum budget is $3444."
        ],
        [
         "4",
         "amd ryzen 9 5900hs next to gtx 1650 plus ram 12gb ; 2560 x 1600 resolution with 165hz laptop engineered by lg, capable of suitable for running high-performance data modeling software? in the region of 1642 USD.",
         "amd ryzen 9 5900hs",
         "gtx 1650",
         "ram 12gb",
         "2560 x 1600 resolution",
         "165hz",
         "lg",
         "in the region of 1642 USD"
        ],
        [
         "5",
         "Would you be able to recommend laptops . It is developed by dell, that include amd ryzen 7 8845hs ; amd radeon rx 6800s accompanied by ram 12gb and screen resolution 3072p coupled with 240hz capable of handling large-scale data visualization extending from 2678 dollars to unknown dollars.",
         "amd ryzen 7 8845hs",
         "amd radeon rx 6800s",
         "ram 12gb",
         "screen resolution 3072p",
         "240hz",
         "dell",
         "extending from 2678 dollars to unknown dollars"
        ],
        [
         "6",
         "Show me laptops . It comes from samsung, featuring these specifications ryzen 7 pro plus nvidia geforce gtx 1660 ti & 12gb together with display wqxga coupled with 300hz ideal for running complex data visualization algorithms slightly below 3030 dollars.",
         "ryzen 7 pro",
         "nvidia geforce gtx 1660 ti",
         "12gb",
         "display wqxga",
         "300hz",
         "samsung",
         "slightly below 3030 dollars"
        ],
        [
         "7",
         "ryzen 7 pro 6th coupled with nvidia geforce rtx 4070 together with 32gb & display 3:2 display with 90hz laptop . It is designed by acer, ideal for suitable for running enterprise-level software advantages? I can spent about unknown USD.",
         "ryzen 7 pro 6th",
         "nvidia geforce rtx 4070",
         "32gb",
         "display 3:2 display",
         "90hz",
         "acer",
         "I can spent about unknown USD"
        ],
        [
         "8",
         "I am on the lookout for laptops created by the team at samsung, with ryzen ai 5 along with rtx 3080 joined by 8gb ram accompanied by qhd+ 16:9 screen resolution , 120hz suitable for running high-performance data mining software roughly 1393.",
         "ryzen ai 5",
         "rtx 3080",
         "8gb ram",
         "qhd+ 16:9 screen resolution",
         "120hz",
         "samsung",
         "roughly 1393"
        ],
        [
         "9",
         "ryzen 5 8th joined by nvidia rtx 2050 together alongside 8gb along with 3k5 resolution not to mention 90hz laptop produced with care by microsoft, optimized for suitable for running complex simulations activity? ranging from 2685 to 2144.",
         "ryzen 5 8th",
         "nvidia rtx 2050",
         "8gb",
         "3k5 resolution",
         "90hz",
         "microsoft",
         "ranging from 2685 to 2144"
        ]
       ],
       "shape": {
        "columns": 8,
        "rows": 10
       }
      },
      "text/html": [
       "<div>\n",
       "<style scoped>\n",
       "    .dataframe tbody tr th:only-of-type {\n",
       "        vertical-align: middle;\n",
       "    }\n",
       "\n",
       "    .dataframe tbody tr th {\n",
       "        vertical-align: top;\n",
       "    }\n",
       "\n",
       "    .dataframe thead th {\n",
       "        text-align: right;\n",
       "    }\n",
       "</style>\n",
       "<table border=\"1\" class=\"dataframe\">\n",
       "  <thead>\n",
       "    <tr style=\"text-align: right;\">\n",
       "      <th></th>\n",
       "      <th>question</th>\n",
       "      <th>cpu</th>\n",
       "      <th>gpu</th>\n",
       "      <th>ram</th>\n",
       "      <th>display</th>\n",
       "      <th>refresh rate</th>\n",
       "      <th>brand</th>\n",
       "      <th>price</th>\n",
       "    </tr>\n",
       "  </thead>\n",
       "  <tbody>\n",
       "    <tr>\n",
       "      <th>0</th>\n",
       "      <td>Suggest some laptops created by the team at hp...</td>\n",
       "      <td>amd ryzen 7 4th</td>\n",
       "      <td>nvidia t500</td>\n",
       "      <td>ram 12gb</td>\n",
       "      <td>wqxga screen resolution</td>\n",
       "      <td>90hz</td>\n",
       "      <td>hp</td>\n",
       "      <td>within the interval of $unknown to $1459</td>\n",
       "    </tr>\n",
       "    <tr>\n",
       "      <th>1</th>\n",
       "      <td>amd ryzen ai 5 6th alongside nvidia geforce rt...</td>\n",
       "      <td>amd ryzen ai 5 6th</td>\n",
       "      <td>nvidia geforce rtx 3070</td>\n",
       "      <td>40gb</td>\n",
       "      <td>16:10 4k+ display resolution</td>\n",
       "      <td>60hz</td>\n",
       "      <td>gigabyte</td>\n",
       "      <td>in the region of unknown dollars</td>\n",
       "    </tr>\n",
       "    <tr>\n",
       "      <th>2</th>\n",
       "      <td>core ultra 7 and rtx 4050 joined by 12gb toget...</td>\n",
       "      <td>core ultra 7</td>\n",
       "      <td>rtx 4050</td>\n",
       "      <td>12gb</td>\n",
       "      <td>3840 x 2160</td>\n",
       "      <td>300hz</td>\n",
       "      <td>razer</td>\n",
       "      <td>Maximum spending limit: unknown.</td>\n",
       "    </tr>\n",
       "    <tr>\n",
       "      <th>3</th>\n",
       "      <td>Let’s look at laptops crafted by asus, that in...</td>\n",
       "      <td>intel core ultra 7 155 series</td>\n",
       "      <td>nvidia rtx 2000 ada</td>\n",
       "      <td>ram 32gb</td>\n",
       "      <td>4k uhd display resolution</td>\n",
       "      <td>144hz</td>\n",
       "      <td>asus</td>\n",
       "      <td>The maximum budget is $3444.</td>\n",
       "    </tr>\n",
       "    <tr>\n",
       "      <th>4</th>\n",
       "      <td>amd ryzen 9 5900hs next to gtx 1650 plus ram 1...</td>\n",
       "      <td>amd ryzen 9 5900hs</td>\n",
       "      <td>gtx 1650</td>\n",
       "      <td>ram 12gb</td>\n",
       "      <td>2560 x 1600 resolution</td>\n",
       "      <td>165hz</td>\n",
       "      <td>lg</td>\n",
       "      <td>in the region of 1642 USD</td>\n",
       "    </tr>\n",
       "    <tr>\n",
       "      <th>5</th>\n",
       "      <td>Would you be able to recommend laptops . It is...</td>\n",
       "      <td>amd ryzen 7 8845hs</td>\n",
       "      <td>amd radeon rx 6800s</td>\n",
       "      <td>ram 12gb</td>\n",
       "      <td>screen resolution 3072p</td>\n",
       "      <td>240hz</td>\n",
       "      <td>dell</td>\n",
       "      <td>extending from 2678 dollars to unknown dollars</td>\n",
       "    </tr>\n",
       "    <tr>\n",
       "      <th>6</th>\n",
       "      <td>Show me laptops . It comes from samsung, featu...</td>\n",
       "      <td>ryzen 7 pro</td>\n",
       "      <td>nvidia geforce gtx 1660 ti</td>\n",
       "      <td>12gb</td>\n",
       "      <td>display wqxga</td>\n",
       "      <td>300hz</td>\n",
       "      <td>samsung</td>\n",
       "      <td>slightly below 3030 dollars</td>\n",
       "    </tr>\n",
       "    <tr>\n",
       "      <th>7</th>\n",
       "      <td>ryzen 7 pro 6th coupled with nvidia geforce rt...</td>\n",
       "      <td>ryzen 7 pro 6th</td>\n",
       "      <td>nvidia geforce rtx 4070</td>\n",
       "      <td>32gb</td>\n",
       "      <td>display 3:2 display</td>\n",
       "      <td>90hz</td>\n",
       "      <td>acer</td>\n",
       "      <td>I can spent about unknown USD</td>\n",
       "    </tr>\n",
       "    <tr>\n",
       "      <th>8</th>\n",
       "      <td>I am on the lookout for laptops created by the...</td>\n",
       "      <td>ryzen ai 5</td>\n",
       "      <td>rtx 3080</td>\n",
       "      <td>8gb ram</td>\n",
       "      <td>qhd+ 16:9 screen resolution</td>\n",
       "      <td>120hz</td>\n",
       "      <td>samsung</td>\n",
       "      <td>roughly 1393</td>\n",
       "    </tr>\n",
       "    <tr>\n",
       "      <th>9</th>\n",
       "      <td>ryzen 5 8th joined by nvidia rtx 2050 together...</td>\n",
       "      <td>ryzen 5 8th</td>\n",
       "      <td>nvidia rtx 2050</td>\n",
       "      <td>8gb</td>\n",
       "      <td>3k5 resolution</td>\n",
       "      <td>90hz</td>\n",
       "      <td>microsoft</td>\n",
       "      <td>ranging from 2685 to 2144</td>\n",
       "    </tr>\n",
       "  </tbody>\n",
       "</table>\n",
       "</div>"
      ],
      "text/plain": [
       "                                            question  \\\n",
       "0  Suggest some laptops created by the team at hp...   \n",
       "1  amd ryzen ai 5 6th alongside nvidia geforce rt...   \n",
       "2  core ultra 7 and rtx 4050 joined by 12gb toget...   \n",
       "3  Let’s look at laptops crafted by asus, that in...   \n",
       "4  amd ryzen 9 5900hs next to gtx 1650 plus ram 1...   \n",
       "5  Would you be able to recommend laptops . It is...   \n",
       "6  Show me laptops . It comes from samsung, featu...   \n",
       "7  ryzen 7 pro 6th coupled with nvidia geforce rt...   \n",
       "8  I am on the lookout for laptops created by the...   \n",
       "9  ryzen 5 8th joined by nvidia rtx 2050 together...   \n",
       "\n",
       "                             cpu                         gpu       ram  \\\n",
       "0                amd ryzen 7 4th                 nvidia t500  ram 12gb   \n",
       "1             amd ryzen ai 5 6th     nvidia geforce rtx 3070      40gb   \n",
       "2                   core ultra 7                    rtx 4050      12gb   \n",
       "3  intel core ultra 7 155 series         nvidia rtx 2000 ada  ram 32gb   \n",
       "4             amd ryzen 9 5900hs                    gtx 1650  ram 12gb   \n",
       "5             amd ryzen 7 8845hs         amd radeon rx 6800s  ram 12gb   \n",
       "6                    ryzen 7 pro  nvidia geforce gtx 1660 ti      12gb   \n",
       "7                ryzen 7 pro 6th     nvidia geforce rtx 4070      32gb   \n",
       "8                     ryzen ai 5                    rtx 3080   8gb ram   \n",
       "9                    ryzen 5 8th             nvidia rtx 2050       8gb   \n",
       "\n",
       "                        display refresh rate      brand  \\\n",
       "0       wqxga screen resolution         90hz         hp   \n",
       "1  16:10 4k+ display resolution         60hz   gigabyte   \n",
       "2                   3840 x 2160        300hz      razer   \n",
       "3     4k uhd display resolution        144hz       asus   \n",
       "4        2560 x 1600 resolution        165hz         lg   \n",
       "5       screen resolution 3072p        240hz       dell   \n",
       "6                 display wqxga        300hz    samsung   \n",
       "7           display 3:2 display         90hz       acer   \n",
       "8   qhd+ 16:9 screen resolution        120hz    samsung   \n",
       "9                3k5 resolution         90hz  microsoft   \n",
       "\n",
       "                                            price  \n",
       "0        within the interval of $unknown to $1459  \n",
       "1                in the region of unknown dollars  \n",
       "2                Maximum spending limit: unknown.  \n",
       "3                    The maximum budget is $3444.  \n",
       "4                       in the region of 1642 USD  \n",
       "5  extending from 2678 dollars to unknown dollars  \n",
       "6                     slightly below 3030 dollars  \n",
       "7                   I can spent about unknown USD  \n",
       "8                                    roughly 1393  \n",
       "9                       ranging from 2685 to 2144  "
      ]
     },
     "execution_count": 13,
     "metadata": {},
     "output_type": "execute_result"
    }
   ],
   "source": [
    "df = question_generation(num=10)\n",
    "df"
   ]
  },
  {
   "cell_type": "code",
   "execution_count": 14,
   "metadata": {},
   "outputs": [
    {
     "name": "stdout",
     "output_type": "stream",
     "text": [
      "Suggest some laptops created by the team at hp, having these features amd ryzen 7 4th in addition to nvidia t500 coupled with ram 12gb ; wqxga screen resolution & 90hz capable of running the latest AAA titles within the interval of $unknown to $1459.\n"
     ]
    },
    {
     "data": {
      "application/vnd.microsoft.datawrangler.viewer.v0+json": {
       "columns": [
        {
         "name": "index",
         "rawType": "int64",
         "type": "integer"
        },
        {
         "name": "price",
         "rawType": "float64",
         "type": "float"
        },
        {
         "name": "brand",
         "rawType": "object",
         "type": "string"
        },
        {
         "name": "device",
         "rawType": "object",
         "type": "string"
        },
        {
         "name": "warranty period",
         "rawType": "int64",
         "type": "integer"
        },
        {
         "name": "type",
         "rawType": "object",
         "type": "string"
        },
        {
         "name": "weight",
         "rawType": "float64",
         "type": "float"
        },
        {
         "name": "width",
         "rawType": "float64",
         "type": "float"
        },
        {
         "name": "height",
         "rawType": "float64",
         "type": "float"
        },
        {
         "name": "thickness",
         "rawType": "float64",
         "type": "float"
        },
        {
         "name": "screen size",
         "rawType": "float64",
         "type": "float"
        },
        {
         "name": "resolution",
         "rawType": "object",
         "type": "string"
        },
        {
         "name": "display type",
         "rawType": "object",
         "type": "string"
        },
        {
         "name": "refresh rate",
         "rawType": "int64",
         "type": "integer"
        },
        {
         "name": "has a touch screen",
         "rawType": "object",
         "type": "string"
        },
        {
         "name": "battery size",
         "rawType": "float64",
         "type": "float"
        },
        {
         "name": "wi-fi version",
         "rawType": "object",
         "type": "string"
        },
        {
         "name": "rj45 ports",
         "rawType": "int64",
         "type": "integer"
        },
        {
         "name": "hdmi ports",
         "rawType": "int64",
         "type": "integer"
        },
        {
         "name": "usb-c",
         "rawType": "int64",
         "type": "integer"
        },
        {
         "name": "usb-a",
         "rawType": "int64",
         "type": "integer"
        },
        {
         "name": "ram",
         "rawType": "int64",
         "type": "integer"
        },
        {
         "name": "ddr memory version",
         "rawType": "int64",
         "type": "integer"
        },
        {
         "name": "ram speed",
         "rawType": "int64",
         "type": "integer"
        },
        {
         "name": "cpu",
         "rawType": "object",
         "type": "string"
        },
        {
         "name": "cpu cores",
         "rawType": "int64",
         "type": "integer"
        },
        {
         "name": "cpu threads",
         "rawType": "int64",
         "type": "integer"
        },
        {
         "name": "cpu speed",
         "rawType": "float64",
         "type": "float"
        },
        {
         "name": "turbo clock speed",
         "rawType": "float64",
         "type": "float"
        },
        {
         "name": "cpu clock multiplier",
         "rawType": "int64",
         "type": "integer"
        },
        {
         "name": "uses multithreading",
         "rawType": "int64",
         "type": "integer"
        },
        {
         "name": "gpu",
         "rawType": "object",
         "type": "string"
        },
        {
         "name": "vram of gpu",
         "rawType": "int64",
         "type": "integer"
        },
        {
         "name": "gpu clock speed",
         "rawType": "int64",
         "type": "integer"
        },
        {
         "name": "gpu turbo",
         "rawType": "int64",
         "type": "integer"
        },
        {
         "name": "pci express (pcie) version",
         "rawType": "int64",
         "type": "integer"
        },
        {
         "name": "semiconductor size",
         "rawType": "int64",
         "type": "integer"
        },
        {
         "name": "supports 64-bit",
         "rawType": "object",
         "type": "string"
        },
        {
         "name": "gpu gddr version",
         "rawType": "object",
         "type": "string"
        },
        {
         "name": "gpu memory speed",
         "rawType": "int64",
         "type": "integer"
        },
        {
         "name": "gpu number of transistors",
         "rawType": "int64",
         "type": "integer"
        },
        {
         "name": "gpu thermal design power (tdp)",
         "rawType": "int64",
         "type": "integer"
        },
        {
         "name": "gpu memory bus width",
         "rawType": "int64",
         "type": "integer"
        },
        {
         "name": "gpu effective memory speed",
         "rawType": "int64",
         "type": "integer"
        },
        {
         "name": "gpu maximum memory bandwidth",
         "rawType": "float64",
         "type": "float"
        },
        {
         "name": "gpu shading units",
         "rawType": "int64",
         "type": "integer"
        },
        {
         "name": "gpu texture rate",
         "rawType": "float64",
         "type": "float"
        },
        {
         "name": "gpu pixel rate",
         "rawType": "float64",
         "type": "float"
        },
        {
         "name": "gpu render output units (rops)",
         "rawType": "int64",
         "type": "integer"
        },
        {
         "name": "gpu texture mapping units (tmus)",
         "rawType": "int64",
         "type": "integer"
        },
        {
         "name": "gpu floating-point performance",
         "rawType": "float64",
         "type": "float"
        },
        {
         "name": "cpu passmark result",
         "rawType": "int64",
         "type": "integer"
        },
        {
         "name": "cpu passmark result (single)",
         "rawType": "int64",
         "type": "integer"
        },
        {
         "name": "cpu geekbench 6 result (multi)",
         "rawType": "int64",
         "type": "integer"
        },
        {
         "name": "cpu geekbench 6 result (single)",
         "rawType": "int64",
         "type": "integer"
        },
        {
         "name": "gpu passmark (g3d) result",
         "rawType": "int64",
         "type": "integer"
        }
       ],
       "conversionMethod": "pd.DataFrame",
       "ref": "4f2b117d-4aa8-4944-9150-e103091fdfa4",
       "rows": [
        [
         "344",
         "1283.31",
         "HP",
         "HP ZBook Firefly G8 15.6 Inches UHD Intel Core i7-1165G7 2.8GHz / Nvidia T500 / 32GB RAM / 512GB SSD",
         "3",
         "Gaming, Productivity, Ultrabook",
         "1.7",
         "3.59",
         "2.33",
         "0.19",
         "15.6",
         "3840 x 2160",
         "IPS",
         "60",
         "No",
         "51.0",
         "Wi-Fi 6 (802.11ax), Wi-Fi 5 (802.11ac), Wi-Fi 4 (802.11n)",
         "0",
         "0",
         "2",
         "2",
         "32",
         "4",
         "3200",
         "Intel Core i7 1165G7",
         "4",
         "8",
         "2.8",
         "4.7",
         "28",
         "0",
         "Nvidia T500",
         "4",
         "1185",
         "1560",
         "3",
         "12",
         "Yes",
         "GDDR6",
         "1250",
         "4700",
         "18",
         "64",
         "10000",
         "80.0",
         "896",
         "87.36",
         "49.92",
         "32",
         "56",
         "2.8",
         "10178",
         "2802",
         "4939",
         "1743",
         "3636"
        ]
       ],
       "shape": {
        "columns": 55,
        "rows": 1
       }
      },
      "text/html": [
       "<div>\n",
       "<style scoped>\n",
       "    .dataframe tbody tr th:only-of-type {\n",
       "        vertical-align: middle;\n",
       "    }\n",
       "\n",
       "    .dataframe tbody tr th {\n",
       "        vertical-align: top;\n",
       "    }\n",
       "\n",
       "    .dataframe thead th {\n",
       "        text-align: right;\n",
       "    }\n",
       "</style>\n",
       "<table border=\"1\" class=\"dataframe\">\n",
       "  <thead>\n",
       "    <tr style=\"text-align: right;\">\n",
       "      <th></th>\n",
       "      <th>price</th>\n",
       "      <th>brand</th>\n",
       "      <th>device</th>\n",
       "      <th>warranty period</th>\n",
       "      <th>type</th>\n",
       "      <th>weight</th>\n",
       "      <th>width</th>\n",
       "      <th>height</th>\n",
       "      <th>thickness</th>\n",
       "      <th>screen size</th>\n",
       "      <th>...</th>\n",
       "      <th>gpu texture rate</th>\n",
       "      <th>gpu pixel rate</th>\n",
       "      <th>gpu render output units (rops)</th>\n",
       "      <th>gpu texture mapping units (tmus)</th>\n",
       "      <th>gpu floating-point performance</th>\n",
       "      <th>cpu passmark result</th>\n",
       "      <th>cpu passmark result (single)</th>\n",
       "      <th>cpu geekbench 6 result (multi)</th>\n",
       "      <th>cpu geekbench 6 result (single)</th>\n",
       "      <th>gpu passmark (g3d) result</th>\n",
       "    </tr>\n",
       "  </thead>\n",
       "  <tbody>\n",
       "    <tr>\n",
       "      <th>344</th>\n",
       "      <td>1283.31</td>\n",
       "      <td>HP</td>\n",
       "      <td>HP ZBook Firefly G8 15.6 Inches UHD Intel Core...</td>\n",
       "      <td>3</td>\n",
       "      <td>Gaming, Productivity, Ultrabook</td>\n",
       "      <td>1.7</td>\n",
       "      <td>3.59</td>\n",
       "      <td>2.33</td>\n",
       "      <td>0.19</td>\n",
       "      <td>15.6</td>\n",
       "      <td>...</td>\n",
       "      <td>87.36</td>\n",
       "      <td>49.92</td>\n",
       "      <td>32</td>\n",
       "      <td>56</td>\n",
       "      <td>2.8</td>\n",
       "      <td>10178</td>\n",
       "      <td>2802</td>\n",
       "      <td>4939</td>\n",
       "      <td>1743</td>\n",
       "      <td>3636</td>\n",
       "    </tr>\n",
       "  </tbody>\n",
       "</table>\n",
       "<p>1 rows × 55 columns</p>\n",
       "</div>"
      ],
      "text/plain": [
       "       price brand                                             device  \\\n",
       "344  1283.31    HP  HP ZBook Firefly G8 15.6 Inches UHD Intel Core...   \n",
       "\n",
       "     warranty period                             type  weight  width  height  \\\n",
       "344                3  Gaming, Productivity, Ultrabook     1.7   3.59    2.33   \n",
       "\n",
       "     thickness  screen size  ... gpu texture rate gpu pixel rate  \\\n",
       "344       0.19         15.6  ...            87.36          49.92   \n",
       "\n",
       "     gpu render output units (rops) gpu texture mapping units (tmus)  \\\n",
       "344                              32                               56   \n",
       "\n",
       "     gpu floating-point performance cpu passmark result  \\\n",
       "344                             2.8               10178   \n",
       "\n",
       "     cpu passmark result (single)  cpu geekbench 6 result (multi)  \\\n",
       "344                          2802                            4939   \n",
       "\n",
       "     cpu geekbench 6 result (single)  gpu passmark (g3d) result  \n",
       "344                             1743                       3636  \n",
       "\n",
       "[1 rows x 55 columns]"
      ]
     },
     "execution_count": 14,
     "metadata": {},
     "output_type": "execute_result"
    }
   ],
   "source": [
    "query = df['question'].values[0]\n",
    "print(query)\n",
    "apply_filters(query, weights={\"gpu\":3})"
   ]
  }
 ],
 "metadata": {
  "kernelspec": {
   "display_name": "Astorine",
   "language": "python",
   "name": "python3"
  },
  "language_info": {
   "codemirror_mode": {
    "name": "ipython",
    "version": 3
   },
   "file_extension": ".py",
   "mimetype": "text/x-python",
   "name": "python",
   "nbconvert_exporter": "python",
   "pygments_lexer": "ipython3",
   "version": "3.11.11"
  }
 },
 "nbformat": 4,
 "nbformat_minor": 2
}
