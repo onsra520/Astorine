{
 "cells": [
  {
   "cell_type": "code",
   "execution_count": null,
   "metadata": {},
   "outputs": [],
   "source": [
    "import os\n",
    "from train_ner import *\n",
    "from pathlib import Path"
   ]
  },
  {
   "cell_type": "code",
   "execution_count": 6,
   "metadata": {},
   "outputs": [],
   "source": [
    "__file__ = \"__init__.py\"\n",
    "\n",
    "base_dir = Path(__file__).resolve().parents[1]\n",
    "\n",
    "# data_dir = os.path.join(base_dir, \"data\")\n",
    "\n",
    "paths = {\n",
    "\n",
    "    \"models\": os.path.join(base_dir, \"models\"),\n",
    "\n",
    "}\n"
   ]
  },
  {
   "cell_type": "code",
   "execution_count": 7,
   "metadata": {},
   "outputs": [],
   "source": [
    "model = HybridModel(categorical_columns, numerical_columns, embedding_dim=8)\n",
    "if \"laptop_evaluator.pth\" not in os.listdir(paths[\"models\"]):\n",
    "    print(\"Model not found. Training a new model...\")\n",
    "    model_train()\n",
    "\n",
    "model.load_state_dict(\n",
    "    torch.load(\n",
    "        os.path.join(paths[\"models\"], \"laptop_evaluator.pth\"), weights_only=False\n",
    "    )\n",
    ")\n",
    "model.eval()\n",
    "\n",
    "def Searching(query, top_k=5):\n",
    "    filtered = df[df[\"DEVICE\"].str.contains(query, case=False)].copy()\n",
    "    \n",
    "    if filtered.empty:\n",
    "        return filtered\n",
    "    numerical_input = torch.tensor(filtered[numerical_columns].values, dtype=torch.float)\n",
    "    categorical_input = torch.tensor(filtered[categorical_columns].values, dtype=torch.long)\n",
    "\n",
    "    model.eval()\n",
    "    with torch.no_grad():\n",
    "        outputs = model(numerical_input, categorical_input)\n",
    "        predicted_scores = outputs.squeeze().numpy()\n",
    "\n",
    "    filtered[\"PREDICTED_SCORE\"] = predicted_scores\n",
    "    sorted_filtered = filtered.sort_values(\n",
    "        by=[\"PREDICTED_SCORE\", \"CPU PASSMARK RESULT\", \"GPU PASSMARK (G3D) RESULT\"],\n",
    "        ascending=[False, False, False]\n",
    "    ).head(top_k)\n",
    "\n",
    "    return sorted_filtered"
   ]
  },
  {
   "cell_type": "code",
   "execution_count": 8,
   "metadata": {},
   "outputs": [
    {
     "name": "stdout",
     "output_type": "stream",
     "text": [
      "Asus ROG Strix Scar 17 (2022) G733 17.3 Inches Intel Core i9-12900H 2.5GHz / Nvidia GeForce RTX 3060 Laptop / 64GB RAM / 512GB SSD - Score: -0.5\n",
      "Asus ROG Zephyrus M16 (2022) GU603 16 Inches Intel Core i9-12900H 2.5GHz / Nvidia GeForce RTX 3060 Laptop / 8GB RAM / 512GB SSD - Score: -0.5\n",
      "Asus Zenbook Pro 16X OLED (UX7602) 16 Inches Intel Core i9-12900H 2.5GHz / Nvidia GeForce RTX 3060 Laptop / 32GB RAM / 512GB SSD - Score: -0.5\n",
      "Asus ROG Strix Scar 15 (2022) G533 15.6 Inches Intel Core i9-12900H 2.5GHz / Nvidia GeForce RTX 3060 Laptop / 64GB RAM / 512GB SSD - Score: -0.5\n",
      "Dell Alienware m15 R7 (2022) 15.6 Inches QHD Intel Core i7-12700H 2.3GHz / Nvidia GeForce RTX 3060 Laptop / 64GB RAM / 512GB SSD - Score: -0.6\n",
      "Dell Alienware x17 R2 17.3 Inches FHD Intel Core i7-12700H / Nvidia GeForce RTX 3060 Laptop / 64GB RAM / 512GB SSD - Score: -0.6\n",
      "MSI GP66 Vector 12UE 272 15.6 Inches FHD Intel Core i7-12700H 2.3GHz / Nvidia GeForce RTX 3060 Laptop / 16GB RAM / 512GB SSD - Score: -0.6\n",
      "Dell Alienware x15 R2 (2022) 15.6 Inches QHD Intel Core i7-12700H 2.3GHz / Nvidia GeForce RTX 3060 Laptop / 32GB RAM / 512GB SSD - Score: -0.6\n",
      "Dell Alienware x17 R2 (2022) 17.3 Inches UHD Intel Core i7-12700H 2.3GHz / Nvidia GeForce RTX 3060 Laptop / 64GB RAM / 512GB SSD - Score: -0.6\n",
      "Dell Inspiron 16 Plus 7620 16 Inches Intel Core i7-12700H 2.3GHz / Nvidia GeForce RTX 3060 Laptop / 32GB RAM / 512GB SSD - Score: -0.6\n"
     ]
    }
   ],
   "source": [
    "recommendations = Searching(\"RTX 3060\", top_k=10)\n",
    "for idx, laptop in recommendations.iterrows():\n",
    "    print(f\"{laptop['DEVICE']} - Score: {laptop['SCORE']:.1f}\")"
   ]
  },
  {
   "cell_type": "code",
   "execution_count": null,
   "metadata": {},
   "outputs": [],
   "source": []
  }
 ],
 "metadata": {
  "kernelspec": {
   "display_name": "PyTorch",
   "language": "python",
   "name": "python3"
  },
  "language_info": {
   "codemirror_mode": {
    "name": "ipython",
    "version": 3
   },
   "file_extension": ".py",
   "mimetype": "text/x-python",
   "name": "python",
   "nbconvert_exporter": "python",
   "pygments_lexer": "ipython3",
   "version": "3.13.2"
  }
 },
 "nbformat": 4,
 "nbformat_minor": 2
}
