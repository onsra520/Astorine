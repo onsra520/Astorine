{
 "cells": [
  {
   "cell_type": "code",
   "execution_count": 3,
   "metadata": {},
   "outputs": [],
   "source": [
    "import os, sys\n",
    "from pathlib import Path\n",
    "sys.path.append(str(Path().resolve().parents[2]))\n",
    "import torch\n",
    "import torch.nn as nn\n",
    "import torch.nn.functional as F\n",
    "from torch.optim import Adam\n",
    "from torch.optim.lr_scheduler import CosineAnnealingLR\n",
    "import torchvision.transforms as transforms\n",
    "from torch.utils.data import DataLoader, random_split\n",
    "import timm\n",
    "import pytorch_lightning as pl\n",
    "from pytorch_lightning.callbacks import ModelCheckpoint, EarlyStopping\n",
    "from sklearn.utils.class_weight import compute_class_weight\n",
    "import numpy as np\n",
    "from src.chatbot import pathtree\n",
    "from dprep import build_dataset, check_images"
   ]
  },
  {
   "cell_type": "code",
   "execution_count": 4,
   "metadata": {},
   "outputs": [],
   "source": [
    "savedir = pathtree().get(\"dataset\")\n",
    "dataset = build_dataset(os.path.join(savedir, \"ltdataset\"))"
   ]
  },
  {
   "cell_type": "code",
   "execution_count": 6,
   "metadata": {},
   "outputs": [],
   "source": [
    "save_checkpoint_dir = os.path.join(pathtree().get(\"models\"), \"ltdectector\")\n",
    "save_model_dir = pathtree().get(\"models\")\n",
    "os.makedirs(save_checkpoint_dir, exist_ok=True)"
   ]
  },
  {
   "cell_type": "code",
   "execution_count": null,
   "metadata": {},
   "outputs": [],
   "source": []
  },
  {
   "cell_type": "code",
   "execution_count": 7,
   "metadata": {},
   "outputs": [],
   "source": [
    "# import random\n",
    "# import numpy as np\n",
    "\n",
    "# import matplotlib.pyplot as plt\n",
    "\n",
    "# original_labels = dataset['train'].features[\"label\"].names\n",
    "\n",
    "# # Get 5 random indices from the train dataset\n",
    "# indices = random.sample(range(len(dataset['train'])), 15)\n",
    "\n",
    "# # Create a figure to display the images\n",
    "# plt.figure(figsize=(15, 10))\n",
    "\n",
    "# # Loop through the selected indices and display each image\n",
    "# for i, idx in enumerate(indices):\n",
    "#     plt.subplot(3, 5, i+1)  # 1 row, 5 columns, i+1 position\n",
    "#     image = dataset['train'][idx]['image']\n",
    "#     plt.imshow(image)\n",
    "#     plt.title(f\"Label: {dataset['train'][idx]['label']}\")\n",
    "#     plt.axis('off')\n",
    "\n",
    "# plt.tight_layout()\n",
    "# plt.show()\n",
    "\n",
    "# for i, idx in enumerate(indices):\n",
    "#     plt.subplot(3, 5, i + 1)  # 3 hàng, 5 cột, vị trí thứ i+1\n",
    "#     image = dataset['train'][idx]['image']\n",
    "#     label_index = dataset['train'][idx]['label']\n",
    "#     label_name = original_labels[label_index] if 0 <= label_index < len(original_labels) else 'Unknown'  # Get label name from list\n",
    "#     plt.imshow(image)\n",
    "#     plt.title(f\"Label: {label_name}\")\n",
    "#     plt.axis('off')\n",
    "\n",
    "# plt.tight_layout()\n",
    "# plt.show()"
   ]
  },
  {
   "cell_type": "code",
   "execution_count": 8,
   "metadata": {},
   "outputs": [],
   "source": [
    "# import pandas as pd\n",
    "# import seaborn as sns\n",
    "# # Tạo DataFrame từ dataset\n",
    "# label_counts = {}\n",
    "# image_sizes = []\n",
    "\n",
    "# for sample in dataset['train']:\n",
    "#     label_index = sample['label']  # Lấy chỉ số của label\n",
    "#     label_name = original_labels[label_index] if 0 <= label_index < len(original_labels) else 'Unknown'\n",
    "    \n",
    "#     label_counts[label_name] = label_counts.get(label_name, 0) + 1\n",
    "#     image_sizes.append(sample['image'].size)  # (width, height)\n",
    "\n",
    "# # Tạo DataFrame\n",
    "# df_labels = pd.DataFrame(list(label_counts.items()), columns=['label_name', 'count'])\n",
    "# df_sizes = pd.DataFrame(image_sizes, columns=['Width', 'Height'])\n",
    "\n",
    "# # Chọn một số lớp phổ biến\n",
    "# top_labels = df_labels.sort_values(by='count', ascending=False).head(4)\n",
    "# df_top_labels = df_labels[df_labels['label_name'].isin(top_labels['label_name'])]\n",
    "\n",
    "# # Vẽ hình ảnh\n",
    "# plt.figure(figsize=(15, 10))\n",
    "\n",
    "# # Biểu đồ 1: Số lượng ảnh trên mỗi lớp\n",
    "# sns.barplot(data=df_labels, x='label_name', y='count')\n",
    "# plt.title(\"Image per class\")\n",
    "# plt.xticks(rotation=90)\n",
    "\n",
    "# plt.show()\n",
    "\n"
   ]
  }
 ],
 "metadata": {
  "kernelspec": {
   "display_name": "Astorine",
   "language": "python",
   "name": "python3"
  },
  "language_info": {
   "codemirror_mode": {
    "name": "ipython",
    "version": 3
   },
   "file_extension": ".py",
   "mimetype": "text/x-python",
   "name": "python",
   "nbconvert_exporter": "python",
   "pygments_lexer": "ipython3",
   "version": "3.11.11"
  }
 },
 "nbformat": 4,
 "nbformat_minor": 2
}
