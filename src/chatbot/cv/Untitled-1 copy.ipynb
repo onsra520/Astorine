{
  "cells": [
    {
      "cell_type": "code",
      "execution_count": 1,
      "metadata": {},
      "outputs": [],
      "source": [
        "import os, sys\n",
        "from pathlib import Path\n",
        "sys.path.append(str(Path().resolve().parents[2]))\n",
        "import numpy as np\n",
        "import torch\n",
        "from PIL import Image as PILImage\n",
        "from datasets import Dataset, load_from_disk\n",
        "from tqdm.auto import tqdm\n",
        "from torch.utils.data import TensorDataset, DataLoader\n",
        "from torchvision import transforms\n",
        "from src.chatbot import pathtree\n",
        "from dprep import build_dataset"
      ]
    },
    {
      "cell_type": "code",
      "execution_count": 2,
      "metadata": {},
      "outputs": [],
      "source": [
        "save_dir = pathtree().get(\"dataset\")\n",
        "dataset = build_dataset(os.path.join(save_dir, \"ltdataset\"))"
      ]
    },
    {
      "cell_type": "code",
      "execution_count": 3,
      "metadata": {},
      "outputs": [
        {
          "data": {
            "application/vnd.jupyter.widget-view+json": {
              "model_id": "8dc9dba37a634968b6550e3fc4d1ffce",
              "version_major": 2,
              "version_minor": 0
            },
            "text/plain": [
              "Loading dataset from disk:   0%|          | 0/22 [00:00<?, ?it/s]"
            ]
          },
          "metadata": {},
          "output_type": "display_data"
        }
      ],
      "source": [
        "device = torch.device(\"cuda\" if torch.cuda.is_available() else \"cpu\")\n",
        "\n",
        "def pre_data(examples, target_size=(600, 600)):\n",
        "    import torch\n",
        "    device = torch.device(\"cuda\" if torch.cuda.is_available() else \"cpu\")\n",
        "    results = {\"image\": [], \"label\": []}\n",
        "    for i, (image, label) in enumerate(zip(examples[\"image\"], examples[\"label\"])):\n",
        "        try:\n",
        "            print(f\"Sample {i}: Type={type(image)}, Value={image if image is not None else 'None'}\")\n",
        "            if image is None or not isinstance(image, (PILImage.Image, np.ndarray)):\n",
        "                print(f\"Sample {i}: Invalid input {type(image)}, using default image\")\n",
        "                image = np.zeros((target_size[0], target_size[1], 3), dtype=np.uint8)\n",
        "            if isinstance(image, np.ndarray):\n",
        "                print(f\"Sample {i}: Converting numpy array to PIL Image\")\n",
        "                image = Image.fromarray(image)\n",
        "\n",
        "            image = image.convert('RGB').resize(target_size)\n",
        "            image_tensor = transforms.ToTensor()(image).to(device)\n",
        "            results[\"image\"].append(image_tensor)\n",
        "            print(f\"Sample {i}: Successfully processed\")\n",
        "        \n",
        "        except Exception as e:\n",
        "            print(f\"Error at sample {i}: {e}\")\n",
        "            results[\"image\"].append(torch.zeros(3, target_size[0], target_size[1]).to(device))\n",
        "        \n",
        "        results[\"label\"].append(label)\n",
        "    return results\n",
        "\n",
        "pre_dir = os.path.join(save_dir, \"preprocessed\")\n",
        "os.makedirs(pre_dir, exist_ok=True)\n",
        "if not (\"train_preprocessed\" in os.listdir(pre_dir) and \"test_preprocessed\" in os.listdir(pre_dir)):\n",
        "    train_data = dataset['train'].map(pre_data, batched=True, batch_size=64, num_proc=4)\n",
        "    test_data = dataset['test'].map(pre_data, batched=True, batch_size=64, num_proc=4)\n",
        "    train_data.save_to_disk(os.path.join(pre_dir, \"train_preprocessed\"))\n",
        "    test_data.save_to_disk(os.path.join(pre_dir, \"test_preprocessed\"))\n",
        "else:\n",
        "    train_data = load_from_disk(os.path.join(pre_dir, \"train_preprocessed\"))\n",
        "    test_data = load_from_disk(os.path.join(pre_dir, \"test_preprocessed\"))"
      ]
    },
    {
      "cell_type": "code",
      "execution_count": null,
      "metadata": {},
      "outputs": [
        {
          "name": "stderr",
          "output_type": "stream",
          "text": [
            "Exception ignored in: <bound method IPythonKernel._clean_thread_parent_frames of <ipykernel.ipkernel.IPythonKernel object at 0x0000021FDC5B9590>>\n",
            "Traceback (most recent call last):\n",
            "  File \"c:\\Users\\trtie\\anaconda3\\envs\\Astorine\\Lib\\site-packages\\ipykernel\\ipkernel.py\", line 790, in _clean_thread_parent_frames\n",
            "    active_threads = {thread.ident for thread in threading.enumerate()}\n",
            "                                                 ^^^^^^^^^^^^^^^^^^^^^\n",
            "  File \"c:\\Users\\trtie\\anaconda3\\envs\\Astorine\\Lib\\threading.py\", line 1501, in enumerate\n",
            "    def enumerate():\n",
            "    \n",
            "KeyboardInterrupt: \n"
          ]
        }
      ],
      "source": [
        "if not all(fname in os.listdir(pre_dir) for fname in [\"train_images.pt\", \"train_labels.pt\", \"test_images.pt\", \"test_labels.pt\"]):\n",
        "    train_images = [data[\"image\"] if isinstance(data[\"image\"], torch.Tensor) else torch.as_tensor(data[\"image\"]) for data in train_data]\n",
        "    train_labels = [data[\"label\"] for data in train_data]\n",
        "    test_images = [data[\"image\"] if isinstance(data[\"image\"], torch.Tensor) else torch.as_tensor(data[\"image\"]) for data in test_data]\n",
        "    test_labels = [data[\"label\"] for data in test_data]\n",
        "\n",
        "    train_images = torch.stack(train_images)\n",
        "    train_labels = torch.tensor(train_labels, dtype=torch.long)\n",
        "    test_images = torch.stack(test_images)\n",
        "    test_labels = torch.tensor(test_labels, dtype=torch.long)\n",
        "\n",
        "    print(\"Train images shape:\", train_images.shape, \"dtype:\", train_images.dtype)\n",
        "\n",
        "    # Save tensors using torch.save\n",
        "    torch.save(train_images, os.path.join(pre_dir, 'train_images.pt'))\n",
        "    torch.save(train_labels, os.path.join(pre_dir, 'train_labels.pt'))\n",
        "    torch.save(test_images, os.path.join(pre_dir, 'test_images.pt'))\n",
        "    torch.save(test_labels, os.path.join(pre_dir, 'test_labels.pt'))\n",
        "else:\n",
        "    # Load tensors using torch.load\n",
        "    train_images = torch.load(os.path.join(pre_dir, 'train_images.pt'))\n",
        "    train_labels = torch.load(os.path.join(pre_dir, 'train_labels.pt'))\n",
        "    test_images = torch.load(os.path.join(pre_dir, 'test_images.pt'))\n",
        "    test_labels = torch.load(os.path.join(pre_dir, 'test_labels.pt'))\n",
        "    print(\"Loaded train images shape:\", train_images.shape, \"dtype:\", train_images.dtype)\n",
        "\n",
        "# Create TensorDataset and DataLoader\n",
        "train_dataset = TensorDataset(train_images, train_labels)\n",
        "test_dataset = TensorDataset(test_images, test_labels)\n",
        "\n",
        "train_loader = DataLoader(train_dataset, batch_size=32, shuffle=True, num_workers=4, pin_memory=True)\n",
        "test_loader = DataLoader(test_dataset, batch_size=32, shuffle=False, num_workers=4, pin_memory=True)"
      ]
    },
    {
      "cell_type": "code",
      "execution_count": null,
      "metadata": {},
      "outputs": [],
      "source": []
    },
    {
      "cell_type": "code",
      "execution_count": null,
      "metadata": {},
      "outputs": [],
      "source": []
    },
    {
      "cell_type": "code",
      "execution_count": null,
      "metadata": {},
      "outputs": [],
      "source": []
    }
  ],
  "metadata": {
    "kernelspec": {
      "display_name": "Astorine",
      "language": "python",
      "name": "python3"
    },
    "language_info": {
      "codemirror_mode": {
        "name": "ipython",
        "version": 3
      },
      "file_extension": ".py",
      "mimetype": "text/x-python",
      "name": "python",
      "nbconvert_exporter": "python",
      "pygments_lexer": "ipython3",
      "version": "3.11.11"
    }
  },
  "nbformat": 4,
  "nbformat_minor": 2
}
