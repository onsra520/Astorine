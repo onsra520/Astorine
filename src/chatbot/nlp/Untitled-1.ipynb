{
 "cells": [
  {
   "cell_type": "code",
   "execution_count": 7,
   "metadata": {},
   "outputs": [],
   "source": [
    "import sys\n",
    "import os\n",
    "from pathlib import Path\n",
    "import pandas as pd\n",
    "import json5\n",
    "from datasets import Dataset\n",
    "from transformers import (\n",
    "    T5Tokenizer,\n",
    "    T5ForConditionalGeneration,\n",
    "    Trainer,\n",
    "    TrainingArguments,\n",
    "    DataCollatorForSeq2Seq\n",
    ")\n",
    "\n",
    "import numpy as np\n",
    "import evaluate"
   ]
  },
  {
   "cell_type": "code",
   "execution_count": 8,
   "metadata": {},
   "outputs": [],
   "source": [
    "__file__ = \"Untitled-1.ipynb\"\n",
    "project_root = Path(__file__).resolve().parents[1]\n",
    "sys.path.append(str(project_root))\n",
    "from utils.nlp_utils import tokenize, stem, bag_of_words\n",
    "from utils.question_generate import generate_text\n",
    "\n",
    "paths = {\n",
    "    \"labels\": os.path.abspath(f\"{project_root}/intents/labels.json\"),\n",
    "    \"questions\": os.path.abspath(f\"{project_root}/intents/questions.csv\"),\n",
    "    \"model\": os.path.abspath(f\"{project_root}/models/t5-base\"),\n",
    "    \"tokenizer\": os.path.abspath(f\"{project_root}/models/tokenizer\"),\n",
    "}\n",
    "\n",
    "os.makedirs(paths[\"model\"], exist_ok=True)\n",
    "os.makedirs(paths[\"tokenizer\"], exist_ok=True)\n"
   ]
  },
  {
   "cell_type": "code",
   "execution_count": 9,
   "metadata": {},
   "outputs": [],
   "source": [
    "spec = pd.read_csv(f\"{os.path.abspath(project_root)}/data/storage/processed/final_cleaning.csv\")\n",
    "txt = json5.load(open(paths[\"labels\"]))"
   ]
  },
  {
   "cell_type": "code",
   "execution_count": 10,
   "metadata": {},
   "outputs": [],
   "source": [
    "df = generate_text(1000)"
   ]
  },
  {
   "cell_type": "code",
   "execution_count": null,
   "metadata": {},
   "outputs": [
    {
     "data": {
      "application/vnd.jupyter.widget-view+json": {
       "model_id": "e084d6250d89483198fc38393f287e0e",
       "version_major": 2,
       "version_minor": 0
      },
      "text/plain": [
       "Map:   0%|          | 0/1000 [00:00<?, ? examples/s]"
      ]
     },
     "metadata": {},
     "output_type": "display_data"
    },
    {
     "name": "stderr",
     "output_type": "stream",
     "text": [
      "Passing a tuple of `past_key_values` is deprecated and will be removed in Transformers v4.48.0. You should pass an instance of `EncoderDecoderCache` instead, e.g. `past_key_values=EncoderDecoderCache.from_legacy_cache(past_key_values)`.\n"
     ]
    },
    {
     "data": {
      "text/html": [
       "\n",
       "    <div>\n",
       "      \n",
       "      <progress value='93' max='93' style='width:300px; height:20px; vertical-align: middle;'></progress>\n",
       "      [93/93 00:50, Epoch 2/3]\n",
       "    </div>\n",
       "    <table border=\"1\" class=\"dataframe\">\n",
       "  <thead>\n",
       " <tr style=\"text-align: left;\">\n",
       "      <th>Step</th>\n",
       "      <th>Training Loss</th>\n",
       "    </tr>\n",
       "  </thead>\n",
       "  <tbody>\n",
       "  </tbody>\n",
       "</table><p>"
      ],
      "text/plain": [
       "<IPython.core.display.HTML object>"
      ]
     },
     "metadata": {},
     "output_type": "display_data"
    },
    {
     "data": {
      "text/plain": [
       "TrainOutput(global_step=93, training_loss=3.628292288831485, metrics={'train_runtime': 52.0566, 'train_samples_per_second': 57.63, 'train_steps_per_second': 1.787, 'total_flos': 396280794710016.0, 'train_loss': 3.628292288831485, 'epoch': 2.9206349206349205})"
      ]
     },
     "execution_count": 11,
     "metadata": {},
     "output_type": "execute_result"
    }
   ],
   "source": [
    "def preprocess_data(row):\n",
    "    return {\n",
    "        \"input_text\": f\"{row['question']}\",\n",
    "        \"target_text\": f\"\"\"\n",
    "            DISPLAY: {row['display']}; \n",
    "            RAM: {row['ram']}; \n",
    "            GPU: {row['gpu']}; \n",
    "            CPU: {row['cpu']}; \n",
    "            REFRESH_RATE: {row['refresh rate']}; \n",
    "            BRAND: {row['brand']}; \n",
    "            PRICE: {row['price']}\n",
    "            \"\"\",\n",
    "    }\n",
    "\n",
    "processed = df.apply(preprocess_data, axis=1)\n",
    "\n",
    "df_processed = pd.DataFrame(list(processed))\n",
    "dataset = Dataset.from_pandas(df_processed)\n",
    "\n",
    "model_checkpoint = \"t5-small\"\n",
    "tokenizer = T5Tokenizer.from_pretrained(model_checkpoint)\n",
    "model = T5ForConditionalGeneration.from_pretrained(model_checkpoint)\n",
    "\n",
    "def tokenize_function(examples):\n",
    "    model_inputs = tokenizer(\n",
    "        examples[\"input_text\"],\n",
    "        max_length=512,\n",
    "        truncation=True,\n",
    "        padding=\"max_length\",\n",
    "    )\n",
    "\n",
    "    labels = tokenizer(\n",
    "        text_target=examples[\"target_text\"],\n",
    "        max_length=128,\n",
    "        truncation=True,\n",
    "        padding=\"max_length\",\n",
    "    )\n",
    "\n",
    "    model_inputs[\"labels\"] = labels[\"input_ids\"]\n",
    "    return model_inputs\n",
    "\n",
    "\n",
    "rouge = evaluate.load(\"rouge\")\n",
    "\n",
    "def compute_metrics(eval_pred):\n",
    "    predictions, labels = eval_pred\n",
    "    predictions = np.where(predictions != -100, predictions, tokenizer.pad_token_id)\n",
    "    labels = np.where(labels != -100, labels, tokenizer.pad_token_id)\n",
    "\n",
    "    decoded_preds = tokenizer.batch_decode(predictions, skip_special_tokens=True)\n",
    "    decoded_labels = tokenizer.batch_decode(labels, skip_special_tokens=True)\n",
    "\n",
    "    rouge_output = rouge.compute(\n",
    "        predictions=decoded_preds, references=decoded_labels, use_stemmer=True\n",
    "    )\n",
    "\n",
    "    return {\n",
    "        \"rouge1\": rouge_output[\"rouge1\"].mid.fmeasure,\n",
    "        \"rouge2\": rouge_output[\"rouge2\"].mid.fmeasure,\n",
    "        \"rougeL\": rouge_output[\"rougeL\"].mid.fmeasure,\n",
    "    }\n",
    "\n",
    "tokenized_dataset = dataset.map(tokenize_function, batched=True)\n",
    "\n",
    "training_args = TrainingArguments(\n",
    "    output_dir=\"./results\",\n",
    "    eval_strategy=\"no\",\n",
    "    learning_rate=3e-5,\n",
    "    per_device_train_batch_size=16,\n",
    "    num_train_epochs=1,\n",
    "    weight_decay=0.01,\n",
    "    do_eval=False,\n",
    "    gradient_accumulation_steps=2,\n",
    "    eval_accumulation_steps=2,\n",
    "    fp16=True,\n",
    ")\n",
    "\n",
    "data_collator = DataCollatorForSeq2Seq(tokenizer, model=model)\n",
    "\n",
    "trainer = Trainer(\n",
    "    model=model,\n",
    "    args=training_args,\n",
    "    train_dataset=tokenized_dataset,\n",
    "    processing_class=tokenizer,\n",
    "    data_collator=data_collator,\n",
    "    compute_metrics=compute_metrics,\n",
    ")\n",
    "trainer.train()"
   ]
  },
  {
   "cell_type": "code",
   "execution_count": 12,
   "metadata": {},
   "outputs": [
    {
     "data": {
      "text/plain": [
       "('C:\\\\Users\\\\Onsra\\\\OneDrive - camann\\\\Documents\\\\GitHub - Repository\\\\Astorine\\\\src\\\\chatbot\\\\models\\\\tokenizer\\\\tokenizer_config.json',\n",
       " 'C:\\\\Users\\\\Onsra\\\\OneDrive - camann\\\\Documents\\\\GitHub - Repository\\\\Astorine\\\\src\\\\chatbot\\\\models\\\\tokenizer\\\\special_tokens_map.json',\n",
       " 'C:\\\\Users\\\\Onsra\\\\OneDrive - camann\\\\Documents\\\\GitHub - Repository\\\\Astorine\\\\src\\\\chatbot\\\\models\\\\tokenizer\\\\spiece.model',\n",
       " 'C:\\\\Users\\\\Onsra\\\\OneDrive - camann\\\\Documents\\\\GitHub - Repository\\\\Astorine\\\\src\\\\chatbot\\\\models\\\\tokenizer\\\\added_tokens.json')"
      ]
     },
     "execution_count": 12,
     "metadata": {},
     "output_type": "execute_result"
    }
   ],
   "source": [
    "trainer.save_model(paths[\"model\"])\n",
    "tokenizer.save_pretrained(paths[\"tokenizer\"])"
   ]
  },
  {
   "cell_type": "code",
   "execution_count": 13,
   "metadata": {},
   "outputs": [],
   "source": [
    "# import torch\n",
    "# tokenizer = T5Tokenizer.from_pretrained(\"trained_tokenizer\")\n",
    "# model = T5ForConditionalGeneration.from_pretrained(\"trained_model\")\n",
    "\n",
    "# device = torch.device(\"cuda\" if torch.cuda.is_available() else \"cpu\")\n",
    "# model.to(device)\n",
    "\n",
    "# input_text = \"Find a laptops have core i7 10th, ram 12gb, screen resolution quad hd, nvidia geforce gtx 1650 ti\"\n",
    "# inputs = tokenizer(input_text, return_tensors=\"pt\", max_length=512, truncation=True)\n",
    "# inputs = {key: value.to(device) for key, value in inputs.items()}\n",
    "# outputs = model.generate(**inputs, max_length=128)\n",
    "# decoded_output = tokenizer.decode(outputs[0], skip_special_tokens=True)\n",
    "# decoded_output"
   ]
  },
  {
   "cell_type": "markdown",
   "metadata": {},
   "source": []
  },
  {
   "cell_type": "code",
   "execution_count": 14,
   "metadata": {},
   "outputs": [],
   "source": [
    "# def gpu_mapping():\n",
    "#     gpu_text = spec[\"GPU\"].unique().tolist()\n",
    "#     gpu_mapping = {}\n",
    "#     for gpu in gpu_text.copy():\n",
    "#         if gpu.startswith(\"Nvidia\"):\n",
    "#             text_1 = re.sub(r\"^Nvidia\\s+GeForce\\s+\", \"\", gpu).strip()\n",
    "#             text_2 = re.sub(r\"^Nvidia\\s+\", \"\", gpu).strip()\n",
    "#             text_3 = re.sub(r\"GeForce\\s+\", \"\", gpu).strip()\n",
    "#         else:\n",
    "#             text_1 = re.sub(r\"^AMD\\s+Radeon\\s+\", \"\", gpu).strip()\n",
    "#             text_2 = re.sub(r\"^AMD\\s+\", \"\", gpu).strip()\n",
    "#             text_3 = re.sub(r\"Radeon\\s+\", \"\", gpu).strip()\n",
    "#         gpu_mapping[gpu] = [text_1.lower(), text_2.lower(), text_3.lower()]\n",
    "#     return gpu_mapping"
   ]
  },
  {
   "cell_type": "code",
   "execution_count": 15,
   "metadata": {},
   "outputs": [],
   "source": [
    "# def tokenize_function(examples):\n",
    "#     model_inputs = tokenizer(examples[\"input_text\"], max_length=512, truncation=True)\n",
    "#     with tokenizer.as_target_tokenizer():\n",
    "#         labels = tokenizer(examples[\"target_text\"], max_length=128, truncation=True)\n",
    "#     model_inputs[\"labels\"] = labels[\"input_ids\"]\n",
    "#     return model_inputs"
   ]
  },
  {
   "cell_type": "code",
   "execution_count": 16,
   "metadata": {},
   "outputs": [],
   "source": [
    "# from sentence_transformers import SentenceTransformer, util\n",
    "\n",
    "# model = SentenceTransformer(\"all-MiniLM-L6-v2\")\n",
    "\n",
    "# known_questions = [\"What is Astorine?\", \"Tell me about Astorine\", \"Explain Astorine\"]\n",
    "# known_embeddings = model.encode(known_questions, convert_to_tensor=True)\n",
    "\n",
    "# new_question = \"Can you describe Astorine?\"\n",
    "# new_embedding = model.encode(new_question, convert_to_tensor=True)\n",
    "\n",
    "# similarity = util.pytorch_cos_sim(new_embedding, known_embeddings)\n",
    "# best_match = similarity.argmax().item()\n",
    "\n",
    "# print(f\"Câu gần nhất: {known_questions[best_match]}\")"
   ]
  },
  {
   "cell_type": "code",
   "execution_count": 17,
   "metadata": {},
   "outputs": [],
   "source": [
    "# from sklearn.feature_extraction.text import CountVectorizer, TfidfVectorizer\n",
    "\n",
    "# texts = [\n",
    "#     \"recommend me some laptops have RTX 3080, 32GB RAM, cpu Intel core i9 12th\",\n",
    "#     \"give me some recommendations for laptops with RTX 4060 , 32GB RAM, cpu Intel core i7 13th\",\n",
    "#     \"Find high-performance laptops that include RTX 3080 Ti, 64GB RAM, CPU Intel Core i9 12th.\",\n",
    "#     \"Suggest powerful laptops with RTX 4070, 32GB RAM, CPU Intel Core i7 13th.\",\n",
    "# ]\n",
    "\n",
    "# # Bag-of-Words\n",
    "# vectorizer = CountVectorizer()\n",
    "# bow_matrix = vectorizer.fit_transform(texts)\n",
    "# print(\"BoW feature names:\", vectorizer.get_feature_names_out())\n",
    "# print(\"BoW matrix:\\n\", bow_matrix.toarray())"
   ]
  },
  {
   "cell_type": "code",
   "execution_count": 18,
   "metadata": {},
   "outputs": [],
   "source": [
    "# # TF-IDF\n",
    "# tfidf_vectorizer = TfidfVectorizer()\n",
    "# tfidf_matrix = tfidf_vectorizer.fit_transform(texts)\n",
    "# print(\"TF-IDF feature names:\", tfidf_vectorizer.get_feature_names_out())\n",
    "# print(\"TF-IDF matrix:\\n\", tfidf_matrix.toarray())"
   ]
  },
  {
   "cell_type": "code",
   "execution_count": 19,
   "metadata": {},
   "outputs": [],
   "source": [
    "# import torch\n",
    "# import os\n"
   ]
  },
  {
   "cell_type": "code",
   "execution_count": 20,
   "metadata": {},
   "outputs": [],
   "source": [
    "# encoders_dir = \"../../models/encoders\"\n",
    "# paths = {\n",
    "#     \"gpu\": os.path.abspath(os.path.join(encoders_dir, \"gpu.pkl\")),\n",
    "    \n",
    "# }\n",
    "\n",
    "\n",
    "# gpu_encoder = torch.load(paths[\"gpu\"], map_location={\"cuda:1\": \"cuda:0\"}, weights_only=False)"
   ]
  },
  {
   "cell_type": "code",
   "execution_count": 21,
   "metadata": {},
   "outputs": [],
   "source": [
    "# gpu_encoder.classes_"
   ]
  }
 ],
 "metadata": {
  "kernelspec": {
   "display_name": "PyTorch",
   "language": "python",
   "name": "python3"
  },
  "language_info": {
   "codemirror_mode": {
    "name": "ipython",
    "version": 3
   },
   "file_extension": ".py",
   "mimetype": "text/x-python",
   "name": "python",
   "nbconvert_exporter": "python",
   "pygments_lexer": "ipython3",
   "version": "3.13.2"
  }
 },
 "nbformat": 4,
 "nbformat_minor": 2
}
