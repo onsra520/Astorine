{
 "cells": [
  {
   "cell_type": "code",
   "execution_count": 19,
   "metadata": {},
   "outputs": [],
   "source": [
    "__file__ = \"__init__.py\""
   ]
  },
  {
   "cell_type": "code",
   "execution_count": 20,
   "metadata": {},
   "outputs": [],
   "source": [
    "import sys, os, json5\n",
    "from pathlib import Path\n",
    "import pandas as pd\n",
    "import numpy as np\n",
    "import tensorflow as tf\n",
    "from transformers import TFT5ForConditionalGeneration, T5Tokenizer\n",
    "\n",
    "project_root = Path(__file__).resolve().parents[1]\n",
    "sys.path.append(str(project_root))\n",
    "\n",
    "from utils.qgene import generate_text"
   ]
  },
  {
   "cell_type": "code",
   "execution_count": 21,
   "metadata": {},
   "outputs": [],
   "source": [
    "paths = {\n",
    "    \"processed\": os.path.abspath(f\"{project_root}/data/storage/processed\"),\n",
    "    \"qfragments\": os.path.abspath(f\"{project_root}/intents/qfragments.json\"),\n",
    "    \"questions\": os.path.abspath(f\"{project_root}/intents/questions.csv\"),\n",
    "    \"qtrain\": os.path.abspath(f\"{project_root}/intents/qtrain.csv\"),\n",
    "    \"models\": os.path.abspath(f\"{project_root}/models/t5-small\"),\n",
    "    \"results\": os.path.abspath(f\"{project_root}/training/results\"),\n",
    "}"
   ]
  },
  {
   "cell_type": "code",
   "execution_count": 22,
   "metadata": {},
   "outputs": [],
   "source": [
    "def load_dataset(num_samples: int=1000, batch_size: int=32, shuffle_buffer: int=1000):\n",
    "    \"\"\"\n",
    "    Sinh dữ liệu bằng generate_text, chuyển đổi sang tf.data.Dataset.\n",
    "    \"\"\"\n",
    "    df = generate_text(num = num_samples, choice = \"s1\", save = False)\n",
    "    # Giả sử ta cần tạo dataset cho phần input (question) và target (chuỗi chứa các component)\n",
    "    # Ví dụ: input là \"Extract component: {question}\" và target là chuỗi có định dạng \"BRAND: ...; CPU: ...; ...\"\n",
    "    inputs = df[\"question\"].apply(lambda x: \"Extract component: \" + x).tolist()\n",
    "    targets = df.apply(\n",
    "        lambda row: (\n",
    "            f\"BRAND: {row['brand']}; \"\n",
    "            f\"PRICE: {row['price']}; \"\n",
    "            f\"RAM: {row['ram']}; \"\n",
    "            f\"GPU: {row['gpu']}; \"\n",
    "            f\"CPU: {row['cpu']}; \"\n",
    "            f\"DISPLAY: {row['display']}; \"\n",
    "            f\"REFRESH_RATE: {row['refresh rate']}\"\n",
    "        ).strip(),\n",
    "        axis=1\n",
    "    ).tolist()\n",
    "    \n",
    "    dataset = tf.data.Dataset.from_tensor_slices((inputs, targets))\n",
    "    dataset = dataset.shuffle(shuffle_buffer).batch(batch_size).prefetch(tf.data.AUTOTUNE)\n",
    "    return dataset"
   ]
  },
  {
   "cell_type": "code",
   "execution_count": 23,
   "metadata": {},
   "outputs": [
    {
     "name": "stdout",
     "output_type": "stream",
     "text": [
      "Input mẫu: b'Extract component: Looking for information on laptops assembled by msi, having ryzen 5 pro 8th combined with nvidia geforce rtx 3080 ti joined by 96gb as well 3k display as well as 144hz suitable for running high-performance data mining software My budget cap is 3027 USD..'\n",
      "Target mẫu: b'BRAND: msi; PRICE: My budget cap is 3027 USD.; RAM: 96gb; GPU: nvidia geforce rtx 3080 ti; CPU: ryzen 5 pro 8th; DISPLAY: 3k display; REFRESH_RATE: 144hz'\n"
     ]
    }
   ],
   "source": [
    "ds = load_dataset(num_samples=1000, batch_size=16)\n",
    "for batch in ds.take(1):\n",
    "    inp, tgt = batch\n",
    "    print(\"Input mẫu:\", inp.numpy()[0])\n",
    "    print(\"Target mẫu:\", tgt.numpy()[0])"
   ]
  },
  {
   "cell_type": "code",
   "execution_count": 24,
   "metadata": {},
   "outputs": [
    {
     "name": "stdout",
     "output_type": "stream",
     "text": [
      "Kích thước sau projection: (10, 512)\n"
     ]
    }
   ],
   "source": [
    "def build_projection_layer(input_dim=256, output_dim=512):\n",
    "    \"\"\"\n",
    "    Xây dựng một projection layer sử dụng tf.keras.layers.Dense để chuyển từ 256 chiều lên 512 chiều.\n",
    "    \"\"\"\n",
    "    # Lưu ý: Không sử dụng activation, lớp này chỉ thực hiện phép biến đổi tuyến tính.\n",
    "    projection_layer = tf.keras.layers.Dense(output_dim, input_shape=(input_dim,))\n",
    "    return projection_layer\n",
    "\n",
    "vocab_size = 10\n",
    "embedding_matrix = np.random.randn(vocab_size, 256).astype(\"float32\")\n",
    "projection = build_projection_layer(256, 512)\n",
    "projected = projection(embedding_matrix)\n",
    "print(\"Kích thước sau projection:\", projected.shape)  # Kỳ vọng (10, 512)"
   ]
  },
  {
   "cell_type": "code",
   "execution_count": 25,
   "metadata": {},
   "outputs": [],
   "source": [
    "def integrate_custom_embeddings(embedding_matrix, projection_layer, t5_model, union_vocab):\n",
    "    \"\"\"\n",
    "    Cập nhật embedding layer của T5 với các vector từ embedding_matrix sau khi qua projection layer.\n",
    "    \"\"\"\n",
    "    # Resize embedding của T5 nếu cần (đảm bảo số lượng token khớp với union_vocab)\n",
    "    new_vocab_size = len(union_vocab)\n",
    "    t5_model.resize_token_embeddings(new_vocab_size)\n",
    "    \n",
    "    # Chuyển đổi embedding matrix sang tensor và qua projection layer\n",
    "    custom_embeddings = tf.convert_to_tensor(embedding_matrix, dtype=tf.float32)    # (vocab_size, 256)\n",
    "    projected_embeddings = projection_layer(custom_embeddings)                      # (vocab_size, 512)\n",
    "    \n",
    "    # Cập nhật biến shared embeddings của T5 bằng cách dùng set_weights\n",
    "    t5_model.shared.set_weights([projected_embeddings.numpy()])\n",
    "    \n",
    "    # Đảm bảo rằng embedding layer là trainable để fine-tune cùng với mô hình T5\n",
    "    t5_model.shared.trainable = True\n",
    "    return t5_model\n"
   ]
  },
  {
   "cell_type": "code",
   "execution_count": 26,
   "metadata": {},
   "outputs": [],
   "source": [
    "def main():\n",
    "    # Thiết lập tf.data.Dataset\n",
    "    batch_size = 32\n",
    "    dataset = load_dataset(num_samples=1000, batch_size=batch_size)\n",
    "    \n",
    "    # Tải tokenizer T5\n",
    "    t5_tokenizer = T5Tokenizer.from_pretrained(\"t5-small\")\n",
    "    \n",
    "    # Xây dựng union vocabulary\n",
    "    # Ở đây, ta sẽ sử dụng vocabulary của tokenizer T5 cho demo.\n",
    "    # Nếu cần kết hợp với từ điển riêng từ generate_text, bạn có thể mở rộng hàm này.\n",
    "    union_vocab = t5_tokenizer.get_vocab()  # dict mapping token -> index\n",
    "    print(\"Kích thước vocabulary:\", len(union_vocab))\n",
    "    \n",
    "    # Huấn luyện embedding module:\n",
    "    # Ở đây, để demo, ta tạo embedding matrix ngẫu nhiên với shape (vocab_size, 256)\n",
    "    vocab_size = len(union_vocab)\n",
    "    embedding_matrix = np.random.randn(vocab_size, 256).astype(\"float32\")\n",
    "    \n",
    "    # Xây dựng projection layer (256 -> 512)\n",
    "    projection_layer = build_projection_layer(input_dim=256, output_dim=512)\n",
    "    \n",
    "    # Tải mô hình T5 phiên bản TensorFlow\n",
    "    t5_model = TFT5ForConditionalGeneration.from_pretrained(\"t5-small\")\n",
    "    \n",
    "    # Tích hợp custom embeddings vào T5\n",
    "    t5_model = integrate_custom_embeddings(embedding_matrix, projection_layer, t5_model, union_vocab)\n",
    "    print(\"Đã cập nhật embedding của T5 với custom embeddings qua projection layer.\")\n",
    "    \n",
    "    # Ví dụ fine-tuning/inference mẫu:\n",
    "    # Lấy một batch từ dataset\n",
    "    for batch in dataset.take(1):\n",
    "        inputs, targets = batch  # inputs và targets là các chuỗi\n",
    "        # Mã hóa inputs sử dụng tokenizer của T5\n",
    "        input_list = [s.decode(\"utf-8\") for s in inputs.numpy()]\n",
    "        input_encodings = t5_tokenizer(input_list, return_tensors=\"tf\", padding=True, truncation=True)\n",
    "\n",
    "        # Sử dụng mô hình T5 để generate output\n",
    "        outputs = t5_model.generate(**input_encodings, max_length=128)\n",
    "        decoded_outputs = t5_tokenizer.batch_decode(outputs, skip_special_tokens=True)\n",
    "        print(\"Output mẫu:\", decoded_outputs)\n",
    "        break"
   ]
  },
  {
   "cell_type": "code",
   "execution_count": 27,
   "metadata": {},
   "outputs": [
    {
     "name": "stdout",
     "output_type": "stream",
     "text": [
      "Kích thước vocabulary: 32100\n"
     ]
    },
    {
     "name": "stderr",
     "output_type": "stream",
     "text": [
      "All PyTorch model weights were used when initializing TFT5ForConditionalGeneration.\n",
      "\n",
      "All the weights of TFT5ForConditionalGeneration were initialized from the PyTorch model.\n",
      "If your task is similar to the task the model of the checkpoint was trained on, you can already use TFT5ForConditionalGeneration for predictions without further training.\n"
     ]
    },
    {
     "name": "stdout",
     "output_type": "stream",
     "text": [
      "Đã cập nhật embedding của T5 với custom embeddings qua projection layer.\n"
     ]
    },
    {
     "name": "stderr",
     "output_type": "stream",
     "text": [
      "WARNING: All log messages before absl::InitializeLog() is called are written to STDERR\n",
      "I0000 00:00:1740435652.983292   26367 service.cc:148] XLA service 0x7f6f04002100 initialized for platform CUDA (this does not guarantee that XLA will be used). Devices:\n",
      "I0000 00:00:1740435652.983386   26367 service.cc:156]   StreamExecutor device (0): NVIDIA GeForce RTX 3060 Laptop GPU, Compute Capability 8.6\n",
      "2025-02-25 05:20:52.997783: I tensorflow/compiler/mlir/tensorflow/utils/dump_mlir_util.cc:268] disabling MLIR crash reproducer, set env var `MLIR_CRASH_REPRODUCER_DIRECTORY` to enable.\n",
      "I0000 00:00:1740435653.016223   26367 cuda_dnn.cc:529] Loaded cuDNN version 90501\n",
      "I0000 00:00:1740435653.069580   26367 device_compiler.h:188] Compiled cluster using XLA!  This line is logged at most once for the lifetime of the process.\n"
     ]
    },
    {
     "name": "stdout",
     "output_type": "stream",
     "text": [
      "Output mẫu: ['jump jump jump jump jump jump jump primit studies studies studies jump jump jump jump primit studies jump jump jump jump jump jump jump jump jump jump jump jump jump jump jump jump jump jump jump jump jump jump jump jump jump jump jump jump jump jump jump jump jump jump jump jump jump jump jump jump jump jump jump jump jump jump jump jump jump jump jump jump jump jump jump jump jump jump jump jump jump jump jump jump jump jump jump jump jump jump jump jump jump jump jump jump jump jump jump jump jump jump jump jump jump jump jump jump jump jump jump jump jump jump jump jump studies studies studies studies studies studies studies studies studies studies studies studies studies studies', 'jump jump jump jump jump jump jump primit studies monastery studies monastery studies monastery studies monastery studies monastery studies monastery monastery primit monastery primit monastery primit monasteryected primit monasteryectedected jump jump jump jump jump jump jump jump jump jump jump intentionally jump jump intentionally intentionally intentionally intentionally intentionally intentionally intentionally intentionally intentionally intentionally intentionally intentionally intentionally intentionally intentionally intentionally intentionally intentionally intentionally intentionally intentionally intentionally intentionally intentionally intentionally intentionally intentionally intentionally intentionally intentionally forgot intentionally forgot intentionally intentionally intentionally intentionally intentionally intentionally intentionally intentionally intentionally intentionally intentionally intentionally intentionally intentionally intentionally intentionally intentionally intentionally intentionally intentionally intentionally intentionally intentionally intentionally intentionally intentionally intentionally intentionally intentionally intentionally intentionally intentionally intentionally intentionally recount jump brevet jump brevet Blood Blood Blood Blood brevet brevet monastery monastery monastery', 'jump jump jump jump jump jump primit primit primitverbandverband primit primit jump jump primit primit jump jump jump jump jump jump jump jump jump jump jump jump jump jump jump jump jump jump jump jump jump jump jump jump jump jump jump jump jump jump jump jump jump jump jump jump jump jump jump jump jump jump jump jump jump jump jump jump jump jump jump jump jump jump jump jump jump jump jump jump jump jump jump jump jump jump jump jump jump jump jump jump jump jump jump jump jump jump jump jump jump jump jump jump jump jump jump jump jump jump jump jump jump jump jump jump recount brevet brevet jump primit primit primit primit primit primit primit primit primit primit', 'jump jump jump jump primit jump jump jump jump jump jump jump jump jump jump jump jump jump jump jump jump jump jump jump jump jump jump jump jump jump jump jump jump jump jump jump jump jump jump jump jump jump jump jump jump jump jump jump jump jump jump jump jump jump jump jump jump jump jump jump jump jump jump jump jump jump jump jump jump jump jump jump jump jump jump jump jump jump jump jump jump jump jump jump jump jump jump jump jump jump jump jump jump jump jump jump jump jump jump jump jump jump jump jump jump jump jump jump jump jump jump jump jump multumesc jump jump jump jump jump jump jump jump jump jump jump jump jump', 'DesignDesign primitDesignDesignDesignDesignDesignDesignDesignDesignDesignDesignDesignDesignDesignDesignDesignDesignDesignDesignDesignDesignDesignDesignDesignDesignDesignDesignDesignDesignDesignDesignDesignDesignDesignDesignDesignDesignDesignDesignDesignDesignDesignDesignDesignDesignDesignDesignDesignDesignDesignDesignDesignDesignDesignDesignDesignDesignDesignDesignDesignDesignDesignDesignDesignDesignDesignDesignDesignDesignDesignDesignDesignDesignDesignDesignDesignDesignDesignDesignDesignDesignDesignDesignDesignDesignDesignDesignDesignDesignDesignDesignDesignDesignDesignDesignDesignDesignDesignDesignDesignDesignDesignDesignDesignDesignDesignDesignDesignDesignDesignDesign primit primit primitDesignDesignDesignDesignDesignDesignDesignDesignDesignDesignDesign', 'jump jump jump jump jump jump jump jump primit primit primit studies primit primit studies jump primit primit jump jump jump jump jump jump jump jump jump jump jump jump jump jump jump jump jump jump jump jump jump intentionally intentionally advance intentionally intentionally intentionally intentionally intentionally intentionally intentionally intentionally intentionally intentionally intentionally intentionally intentionally intentionally intentionally intentionally intentionally intentionally intentionally intentionally intentionally intentionally forgot intentionally intentionally intentionally intentionally intentionally intentionally intentionally intentionally forgot intentionally intentionally intentionally intentionally intentionally intentionally intentionally intentionally intentionally forgot forgot intentionally intentionally intentionally intentionally intentionally intentionally intentionally intentionally intentionally intentionally intentionally intentionally intentionally intentionally intentionally intentionally intentionally intentionally intentionally intentionally intentionally intentionally intentionally intentionally intentionally intentionally intentionally intentionallyatorită brevet brevet jump jump brevet brevet brevet brevet intentionally brevet brevet brevet brevet', 'ottoman ottoman ottoman ottoman ottoman ottomanverbandverband ottoman ottoman ottoman ottoman ottoman ottoman ottoman ottoman ottoman ottoman ottoman ottoman ottoman ottoman ottoman ottoman ottoman ottoman ottoman ottoman ottoman ottoman ottoman ottoman ottoman ottoman ottoman ottoman ottoman ottoman ottoman ottoman ottoman ottoman ottoman ottoman ottoman ottoman ottoman ottoman ottoman ottoman ottoman ottoman ottoman ottoman ottoman ottoman ottoman ottoman ottoman ottoman ottoman ottoman ottoman ottoman ottoman ottoman ottoman ottoman ottoman ottoman ottoman ottoman ottoman ottoman ottoman ottoman ottoman ottoman ottoman ottoman ottoman ottoman ottoman ottoman ottoman ottoman ottoman ottoman ottoman ottoman ottoman ottoman ottoman ottoman ottoman ottoman ottoman ottoman ottoman ottoman ottoman ottoman ottoman ottoman ottoman ottoman ottoman ottoman ottoman ottoman ottoman ottoman ottoman jump jump jump ottoman ottoman ottoman ottoman ottoman ottoman ottoman ottoman ottoman ottoman ottoman', 'jump jump jump jump jump primit primit primitverbandverband jump primit primit jump jump jump jump jump jump jump jump jump jump jump jump jump jump jump jump jump jump jump jump jump jump intentionally jump jump intentionally intentionally intentionally intentionally intentionally intentionally intentionally intentionally intentionally intentionally intentionally intentionally intentionally intentionally intentionally intentionally intentionally intentionally intentionally intentionally intentionally intentionally intentionally intentionally intentionally intentionally intentionally intentionally intentionally intentionally intentionally intentionally intentionally intentionally intentionally intentionally intentionally intentionally intentionally intentionally intentionally intentionally intentionally intentionally intentionally intentionally intentionally intentionally intentionally intentionally intentionally intentionally intentionally intentionally intentionally intentionally intentionally intentionally intentionally intentionally intentionally intentionally intentionally intentionally intentionally intentionally intentionally intentionally intentionally intentionally intentionally intentionally intentionally intentionally intentionally multumescMainlandMainlandStylishStylish jump jump jump primit primit primit primit primit primit', 'jump jump jump jump jump jump jump primit primit primit studiesverband primit primit jump jump primit jump jump jump jump jump jump jump jump jump jump jump jump jump jump jump intentionally intentionally jump intentionally intentionally intentionally intentionally intentionally intentionally intentionally intentionally intentionally intentionally intentionally intentionally intentionally intentionally intentionally intentionally intentionally intentionally intentionally intentionally intentionally intentionally intentionally intentionally intentionally intentionally intentionally intentionally intentionally intentionally intentionally intentionally intentionally intentionally intentionally intentionally intentionally intentionally intentionally intentionally intentionally intentionally intentionally intentionally intentionally intentionally intentionally intentionally intentionally intentionally intentionally intentionally intentionally intentionally intentionally intentionally intentionally intentionally intentionally intentionally intentionally intentionally intentionally intentionally intentionallyDesignDesignDesignDesignDesignDesignDesignDesignDesignDesignDesignDesignDesign recount jump jump jump jumpverbandverband jump jump jump primitverband jump primit', 'jump jump jump jump jump jump jump primit primit jump jump jumpStylish jump jump jump jump jump jump jump jump jump jump jump jump jump jump jump jump jump jump jump jump jump jump jump jump jump jump jump jump jump jump jump jump jump jump jump jump jump jump jump jump jump jump jump jump jump jump jump jump jump jump jump jump jump jump jump jump jump jump jump jump jump jump jump jump jump jump jump jump jump jump jump jump jump jump jump jump jump jump jump jump jump jump jump jump jump jump jump jump jump jump jump jump jump jump jump jump jump jump jump jump recount recount Blood Bloodverbandverband jump jump jump jump jump jump jump jump', 'jump jump jump jump jump jump jump jump primit primit primitverband jump primit primit jump jump jump jump jump jump jump jump jump jump jump jump jump intentionally intentionally jump intentionally intentionally intentionally intentionally intentionally intentionally intentionally intentionally intentionally forgot intentionally intentionally intentionally intentionally intentionally intentionally intentionally forgot intentionally intentionally intentionally intentionally intentionally intentionally intentionally forgot intentionally intentionally intentionally intentionally intentionally intentionally intentionally forgot forgot intentionally forgot intentionally intentionally intentionally intentionally intentionally intentionally intentionally intentionally intentionally intentionally intentionally intentionally intentionally intentionally intentionally intentionally intentionally intentionally intentionally intentionally intentionally intentionally intentionally intentionally intentionally intentionally intentionally intentionally intentionally intentionally intentionally intentionally intentionally intentionally intentionally intentionally intentionally intentionally intentionally intentionally intentionally intentionally intentionally intentionally intentionally brevet brevet brevet brevet brevet brevet brevet intentionally intentionally intentionally intentionally intentionally intentionally intentionally', 'primit functie primit primit primit primit primitDesignDesignDesignDesignDesignDesignDesignDesignDesignDesignDesignDesignDesignDesignDesignDesignDesignDesignDesignDesignDesignDesignDesignDesignDesignDesignDesignDesignDesignDesignDesignDesignDesignDesignDesignDesignDesignDesignDesignDesignDesignDesignDesignDesignDesignDesignDesignDesignDesignDesignDesignDesignDesignDesignDesignDesignDesignDesignDesignDesignDesignDesignDesignDesignDesignDesignDesignDesignDesignDesignDesignDesignDesignDesignDesignDesignDesignDesignDesignDesignDesignDesignDesignDesignDesignDesignDesignDesignDesignDesignDesignDesignDesignDesignDesignDesignDesignDesignDesignDesignDesignDesignDesignDesignDesignDesignMainlandMainlandMainland primit primit primit primit primit primit primitDesignDesignDesignDesign', 'jump primit jump jump jump jump jump jump jump jump jump jump jump jump jump jump jump jump jump jump jump jump intentionally jump jump intentionally intentionally intentionally intentionally intentionally intentionally intentionally intentionally intentionally intentionally intentionally intentionally intentionally intentionally intentionally intentionally intentionally intentionally intentionally intentionally intentionally intentionally intentionally intentionally intentionally intentionally intentionally intentionally intentionally intentionally intentionally intentionally intentionally intentionally intentionally intentionally intentionally intentionally intentionallyDesignDesignDesignDesignDesignDesignDesignDesignDesignDesignDesignDesignDesignDesignDesignDesignDesignDesignDesignDesignDesignDesignDesignDesignDesignDesignDesignDesignDesignDesignDesignDesignDesignDesignDesignDesignDesignDesignDesignDesignDesignDesignDesignDesignDesignDesignDesignDesignDesign studies primit primit jump jump jump jump jump jump jump jump jump jump jump', 'jump jump jump jump jump jump jump jump primit primit jumpverbandverband primit jump jump primit primit jump jump jump jump jump jump jump jump jump jump jump jump jump jump jump jump jump jump jump jump jump jump jump jump jump jump jump jump jump jump jump jump jump jump intentionally jump jump intentionally intentionally jump intentionally intentionally intentionally intentionally intentionally intentionally intentionally intentionally intentionally intentionally intentionally intentionally intentionally intentionally intentionally intentionally intentionally intentionally intentionally intentionally intentionally intentionally intentionally intentionally intentionally intentionally intentionally intentionally intentionally intentionally intentionally intentionally intentionally intentionally intentionally intentionally intentionally intentionally intentionally intentionally intentionally intentionallyDesignDesignDesignDesignDesignDesignDesignDesignDesignDesignDesignDesignDesignjahr brevet jump jump jump jump jump brevet brevet brevet brevet brevet brevet brevet', 'primit functieStylishverband primit primit primit primitDesignDesignDesignDesignDesignDesignDesignDesignDesignDesignDesignDesignDesignDesignDesignDesignDesignDesignDesignDesignDesignDesignDesignDesignDesignDesignDesignDesignDesignDesignDesignDesignDesignDesignDesignDesignDesignDesignDesignDesignDesignDesignDesignDesignDesignDesignDesignDesignDesignDesignDesignDesignDesignDesignDesignDesignDesignDesignDesignDesignDesignDesignDesignDesignDesignDesignDesignDesignDesignDesignDesignDesignDesignDesignDesignDesignDesignDesignDesignDesignDesignDesignDesignDesignDesignDesignDesignDesignDesignDesignDesignDesignDesignDesignDesignDesignDesignDesignDesignDesignDesignDesignDesignDesignDesignMainlandverbandverband primit primit primit primit primit primit primit primitDesignDesignDesign', 'jump jump jump jump jump jump primit primit studies studies primit primit studies jump primit studies jump jump primit jump jump jump jump jump jump jump jump primit jump jump jump jump jump jump primit primit jump jump jump jump jump jump jump jump jump jump jump jump jump jump jump jump jump jump jump jump jump jump jump jump jump jump jump jump jump jump jump jump jump jump jump jump jump jump jump jump jump jump jump jump jump jump jump jump jump jump jump advance advance advance advance advance advance advance advance advance advance advance advance advance advance advance advance advance advance advance advance advance advance advance advance advance advance recount brevet brevet brevet brevet brevet brevet brevet brevet brevet primit primit primit primit', 'jump primit jump jump jump jump jump jump jump jump jump jump jump jump jump jump jump jump intentionally jump jump intentionally intentionally intentionally intentionally intentionally intentionally intentionally intentionally intentionally intentionally intentionally intentionally intentionally intentionally intentionally intentionally intentionally intentionally intentionally intentionally intentionally intentionally intentionally intentionally intentionally intentionally intentionally intentionally intentionally intentionally intentionally intentionally intentionally intentionally intentionally intentionally intentionally intentionally intentionally intentionally intentionally intentionally intentionally intentionally intentionally intentionally intentionally intentionally intentionally intentionally intentionally intentionally intentionally intentionally intentionally intentionallyDesignDesignDesignDesignDesignDesignDesignDesignDesignDesignDesignDesignDesignDesignDesignDesignDesignDesignDesignDesignDesignDesignDesignDesignDesignDesignDesignDesignDesignDesignDesignDesignDesignDesignDesignDesign recount jump jump jumpluminousverbandverband monastery brevet brevet monastery monastery monastery monastery', 'DesignDesign primitDesignDesignDesignDesignDesignDesignDesignDesignDesignDesignDesignDesignDesignDesignDesignDesignDesignDesignDesignDesignDesignDesignDesignDesignDesignDesignDesignDesignDesignDesignDesignDesignDesignDesignDesignDesignDesignDesignDesignDesignDesignDesignDesignDesignDesignDesignDesignDesignDesignDesignDesignDesignDesignDesignDesignDesignDesignDesignDesignDesignDesignDesignDesignDesignDesignDesignDesignDesignDesignDesignDesignDesignDesignDesignDesignDesignDesignDesignDesignDesignDesignDesignDesignDesignDesignDesignDesignDesignDesignDesignDesignDesignDesignDesignDesignDesignDesignDesignDesignDesignDesignDesignDesignDesignDesignDesignDesignDesignDesignDesignruf primit primitDesignDesignDesignDesignDesignDesignDesignDesignDesignDesignDesign', 'DesignDesign primitDesignDesignDesignDesignDesignDesignDesignDesignDesignDesignDesignDesignDesignDesignDesignDesignDesignDesignDesignDesignDesignDesignDesignDesignDesignDesignDesignDesignDesignDesignDesignDesignDesignDesignDesignDesignDesignDesignDesignDesignDesignDesignDesignDesignDesignDesignDesignDesignDesignDesignDesignDesignDesignDesignDesignDesignDesignDesignDesignDesignDesignDesignDesignDesignDesignDesignDesignDesignDesignDesignDesignDesignDesignDesignDesignDesignDesignDesignDesignDesignDesignDesignDesignDesignDesignDesignDesignDesignDesignDesignDesignDesignDesignDesignDesignDesignDesignDesignDesignDesignDesignDesignDesignDesignDesignDesignDesignDesignDesignDesign Ceramic primitDesignDesignDesignDesignDesignDesignDesignDesignDesignDesignDesignDesign', 'jump jump jump jump jump jump jump jump primit primit studies studies studies studies jump jump primit primit jump studies jump primit jump jump jump jump jump jump jump jump jump jump jump jump jump jump jump jump jump jump jump intentionallyDesignDesignDesignDesign jump jump jump intentionallyDesignDesignDesignDesign jump jump jump jumpDesignDesignDesignDesign jump jump jump jumpDesignDesignDesignDesign jump jump jump jumpDesignDesignDesignDesign jump jump jump jumpDesignDesignDesignDesign jump jump jump jumpDesignDesignDesignDesign jump jump jump jumpDesignDesignDesignDesign jump jump jump jumpDesignDesignDesignDesign jump jump jump recount brevet jump jump jump jump primit primit primit studies primit studies studies studies', 'jump jump jump jump jump jump primit primitverbandverband primit primit jump jump jump jump jump jump jump jump jump jump jump jump jump jump intentionally jump intentionally intentionally intentionally intentionally forgot forgot intentionally intentionally intentionally intentionally forgot intentionally intentionally forgot intentionally intentionally intentionally intentionally forgot intentionally intentionally forgot intentionally intentionally intentionally intentionally intentionally forgot intentionally forgot intentionally intentionally intentionally intentionally intentionally intentionally intentionally forgotDesignDesign intentionallyDesignDesignDesignDesignDesignDesignDesignDesignDesignDesignDesignDesignDesignDesignDesignDesignDesignDesignDesignDesignDesignDesignDesignDesignDesignDesignDesignDesignDesignDesignDesignDesignDesignDesignDesignDesignDesignDesignDesignDesignDesignDesignDesignDesign recountMainlandverbandverbandverbandverband Bloodverbandverbandverband monastery primit primitverband', 'primit primitDesignDesignDesignDesignDesignDesignDesignDesignDesignDesignDesignDesignDesignDesignDesignDesignDesignDesignDesignDesignDesignDesignDesignDesignDesignDesignDesignDesignDesignDesignDesignDesignDesignDesignDesignDesignDesignDesignDesignDesignDesignDesignDesignDesignDesignDesignDesignDesignDesignDesignDesignDesignDesignDesignDesignDesignDesignDesignDesignDesignDesignDesignDesignDesignDesignDesignDesignDesignDesignDesignDesignDesignDesignDesignDesignDesignDesignDesignDesignDesignDesignDesignDesignDesignDesignDesignDesignDesignDesignDesignDesignDesignDesignDesignDesignDesignDesignDesignDesignDesignDesignDesignDesignDesignDesignDesignDesignDesignDesignDesignDesignMainland primit primitDesignDesignDesignDesignDesignDesignDesignDesignDesignDesignDesign', 'primit functieDesign primitDesignDesignDesignDesignDesignDesignDesignDesignDesignDesignDesignDesignDesignDesignDesignDesignDesignDesignDesignDesignDesignDesignDesignDesignDesignDesignDesignDesignDesignDesignDesignDesignDesignDesignDesignDesignDesignDesignDesignDesignDesignDesignDesignDesignDesignDesignDesignDesignDesignDesignDesignDesignDesignDesignDesignDesignDesignDesignDesignDesignDesignDesignDesignDesignDesignDesignDesignDesignDesignDesignDesignDesignDesignDesignDesignDesignDesignDesignDesignDesignDesignDesignDesignDesignDesignDesignDesignDesignDesignDesignDesignDesignDesignDesignDesignDesignDesignDesignDesignDesignDesignDesignDesignDesignDesignDesignDesignDesignDesignverbandverband primitDesign primit primitDesignDesignDesignDesignDesignDesignDesignDesign', 'jump jump jump jump jump jump jump jump primit primit studies studies jump primit jump jump jump jump jump jump jump jump jump jump jump jump jump jump jump jump jump jump jump jump jump jump jump jump jump jump jump jump jump jump jump jump jump jump jump jump jump jump jump jump jump jump jump jump jump jump jump jump jump jump jump jump jump jump jump jump jump jump jump jump jump jump jump jump jump jump jump jump jump jump jump jump jump jump jump jump jump jump jump jump jump jump jump jump jump jump jump jump jump jump jump jump jump jump jump jump jump jump jump recount jump jump jump jump jump primit studies jump primit studies studies studies studies', 'primit primit jump jump jump jump jump jump jump jump jump jump jump jump jump jump jump intentionally jump jump intentionally intentionally intentionally intentionally intentionally intentionally intentionally intentionally intentionally intentionally intentionally intentionally intentionally intentionally intentionally intentionally intentionally intentionally intentionally intentionally intentionallyDesignDesignDesignDesignDesignDesignDesignDesignDesignDesignDesignDesignDesignDesignDesignDesignDesignDesignDesignDesignDesignDesignDesignDesignDesignDesignDesignDesignDesignDesignDesignDesignDesignDesignDesignDesignDesignDesignDesignDesignDesignDesignDesignDesignDesignDesignDesignDesignDesignDesignDesignDesignDesignDesignDesignDesignDesignDesignDesignDesignDesignDesignDesignDesignDesignDesignDesignDesignDesignDesignDesignDesign primit primit jump jump jump jump jump jump jump jump jump jump jump jump', 'DesignDesign primitDesignDesignDesignDesignDesignDesignDesignDesignDesignDesignDesignDesignDesignDesignDesignDesignDesignDesignDesignDesignDesignDesignDesignDesignDesignDesignDesignDesignDesignDesignDesignDesignDesignDesignDesignDesignDesignDesignDesignDesignDesignDesignDesignDesignDesignDesignDesignDesignDesignDesignDesignDesignDesignDesignDesignDesignDesignDesignDesignDesignDesignDesignDesignDesignDesignDesignDesignDesignDesignDesignDesignDesignDesignDesignDesignDesignDesignDesignDesignDesignDesignDesignDesignDesignDesignDesignDesignDesignDesignDesignDesignDesignDesignDesignDesignDesignDesignDesignDesignDesignDesignDesignDesignDesignDesignDesignDesignDesignDesignDesignverband primitDesignDesignDesignDesignDesignDesignDesignDesignDesignDesignDesignDesign', 'primit primit primit primitverbandverband primit primit primit primit primitDesignDesign primitDesignDesign primitDesignDesignDesignDesignDesignDesignDesignDesignDesignDesignDesignDesignDesignDesignDesignDesignDesignDesignDesignDesignDesignDesignDesignDesignDesignDesignDesignDesignDesignDesignDesignDesignDesignDesignDesignDesignDesignDesignDesignDesignDesignDesignDesignDesignDesignDesignDesignDesignDesignDesignDesignDesignDesignDesignDesignDesignDesignDesignDesignDesignDesignDesignDesignDesignDesignDesignDesignDesignDesignDesignDesignDesignDesignDesignDesignDesignDesignDesignDesignDesignDesignDesignDesignDesignDesignDesignDesignDesignDesignDesignDesignDesignDesignDesignDesignDesignverband primit primitverbandverband primit primit primit primit primit primit primit primit primit', 'jump jump jump jump jump jump jump jump jump primit studies jump jump jump jump jump jump jump jump jump jump jump jump jump jump jump jump jump jump jump jump jump jump jump jump jump jump intentionally jump jumpDesign intentionallyDesignDesign intentionally jump jump intentionally intentionallyDesignDesignDesignDesignDesign jump jump jump jump jumpDesignDesignDesignDesignDesign jump jump jump jumpDesignDesignDesignDesignDesignDesign jump jump jump jumpDesignDesignDesignDesignDesignDesignDesignDesignDesignDesignDesignDesignDesignDesignDesignDesignDesignDesignDesignDesignDesignDesignDesignDesignDesignDesignDesignDesignDesignDesignDesignDesignDesignverbandverband recountluminous jump jump jump jump jump jump jump primitverbandverbandverband primit', 'jump jump jump jump jump jump jump jump primit jump jump jump jump jump jump jump jump jump jump jump jump jump intentionally intentionally jump intentionally intentionally forgot intentionally intentionally forgot intentionally intentionally forgot intentionally intentionally forgot intentionally intentionally forgot intentionally intentionally forgot intentionally intentionally forgot intentionally intentionally intentionally intentionally intentionally intentionally intentionally intentionally intentionally intentionally intentionally intentionally intentionally intentionally intentionally intentionally intentionally intentionally intentionally intentionally intentionally intentionally intentionally intentionally intentionally intentionally intentionally intentionally intentionally intentionally intentionally intentionally intentionally intentionally intentionally intentionally intentionally intentionally intentionally intentionally intentionally intentionally intentionally intentionally intentionally intentionally intentionally intentionally intentionally intentionally intentionally intentionally intentionally intentionally intentionally intentionally intentionally intentionally intentionally intentionally intentionally intentionally intentionally intentionally intentionally intentionally intentionallyMainlandMainlandMainlandMainlandStylishStylishStylishStylishStylishStylishStylishStylishStylishStylish', 'primit primitDesignDesignDesignDesignDesignDesignDesignDesignDesignDesignDesignDesignDesignDesignDesignDesignDesignDesignDesignDesignDesignDesignDesignDesignDesignDesignDesignDesignDesignDesignDesignDesignDesignDesignDesignDesignDesignDesignDesignDesignDesignDesignDesignDesignDesignDesignDesignDesignDesignDesignDesignDesignDesignDesignDesignDesignDesignDesignDesignDesignDesignDesignDesignDesignDesignDesignDesignDesignDesignDesignDesignDesignDesignDesignDesignDesignDesignDesignDesignDesignDesignDesignDesignDesignDesignDesignDesignDesignDesignDesignDesignDesignDesignDesignDesignDesignDesignDesignDesignDesignDesignDesignDesignDesignDesignDesignDesignDesignDesignDesignDesign primit primit primitDesignDesignDesignDesignDesignDesignDesignDesignDesignDesignDesign', 'primit primit jump primit primitverbandverband primit primit primit primit primit primit primitverbandverband primit primit primit primit primit primit primit primit primit primit primit primit primit primit primit primit primit primit primit primit primit primit primit primit primit primit primit primit primit primit primit primit primit primit primit primit primit primit primit primit primit primit primit primit primit primit primit primit primit primit primit primit primit primit primit primit primit primit primit primit primit primit primit primit primit primit primit primit primit primit primit primit primit primit primit primit primit primit primit primit primit primit primit primit primit primit primit primit primit primit primit primit primit primit primit primit primit primit primitverbandverband primit primit primit primit primit primit primit primit primit primit', 'jump jump jump jump jump jump jump primit primit primit studies jump primit primit studies jump jump primit jump jump jump jump jump jump jump jump jump jump jump jump jump jump jump jump jump jump jump jump jump jump jump jump jump jump jump jump jump jump jump jump jump jump jump jump jump jump jump jump jump jump jump jump jump jump jump jump jump jump jump jump jump jump jump jump jump jump jump jump jump jump jump jump jump jump jump jump jump jump jump jump jump jump jump jump jump jump jump jump jump jump jump jump jump jump jump jump jump jump jump jump jump jump jump recount brevet brevet brevet brevet brevet brevet brevet primit primitverband primit primit primit']\n"
     ]
    }
   ],
   "source": [
    "main()"
   ]
  },
  {
   "cell_type": "code",
   "execution_count": 28,
   "metadata": {},
   "outputs": [],
   "source": [
    "# class NLPModel:\n",
    "#     def __init__(self, datanum: int = 1000) -> None:\n",
    "#         # Load data\n",
    "#         self.qfragments = json5.load(open(paths[\"qfragments\"]))\n",
    "#         self.questions = self._dataset(datanum)\n",
    "        \n",
    "#         self._prepare_datasets()\n",
    "\n",
    "#     def dataset(datanum: int = 1000) -> pd.DataFrame:\n",
    "#         if os.path.exists(paths[\"qtrain\"]):\n",
    "#             old_data = pd.read_csv(paths[\"qtrain\"])\n",
    "#             new_questions = pd.concat([old_data, generate_text(datanum)])\n",
    "#         else:\n",
    "#             new_questions = generate_text(datanum)\n",
    "        \n",
    "#         new_questions.to_csv(paths[\"qtrain\"], index=False)\n",
    "#         return new_questions"
   ]
  }
 ],
 "metadata": {
  "kernelspec": {
   "display_name": "Astorine",
   "language": "python",
   "name": "python3"
  },
  "language_info": {
   "codemirror_mode": {
    "name": "ipython",
    "version": 3
   },
   "file_extension": ".py",
   "mimetype": "text/x-python",
   "name": "python",
   "nbconvert_exporter": "python",
   "pygments_lexer": "ipython3",
   "version": "3.11.11"
  }
 },
 "nbformat": 4,
 "nbformat_minor": 2
}
