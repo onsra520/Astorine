{
 "cells": [
  {
   "cell_type": "code",
   "execution_count": 122,
   "metadata": {},
   "outputs": [],
   "source": [
    "__file__ = \"__init__.py\""
   ]
  },
  {
   "cell_type": "code",
   "execution_count": 123,
   "metadata": {},
   "outputs": [],
   "source": [
    "from transformers import T5Tokenizer, T5ForConditionalGeneration\n",
    "import torch\n",
    "import sys\n",
    "import os\n",
    "from pathlib import Path\n",
    "\n",
    "project_root = Path(__file__).resolve().parents[1]\n",
    "sys.path.append(str(project_root))"
   ]
  },
  {
   "cell_type": "code",
   "execution_count": 124,
   "metadata": {},
   "outputs": [],
   "source": [
    "paths = {\n",
    "    \"processed\": os.path.abspath(f\"{project_root}/data/storage/processed\"),\n",
    "    \"qfragments\": os.path.abspath(f\"{project_root}/intents/qfragments.json\"),\n",
    "    \"questions\": os.path.abspath(f\"{project_root}/intents/questions.csv\"),\n",
    "    \"model\": os.path.abspath(f\"{project_root}/models/t5-small\"),\n",
    "    \"results\": os.path.abspath(f\"{project_root}/training/results\"),\n",
    "}"
   ]
  },
  {
   "cell_type": "code",
   "execution_count": 129,
   "metadata": {},
   "outputs": [
    {
     "name": "stdout",
     "output_type": "stream",
     "text": [
      "Extracted components: Recomend me a laptop with RTX 4080, i9 14th.\n"
     ]
    }
   ],
   "source": [
    "model_path = paths[\"model\"]\n",
    "model = T5ForConditionalGeneration.from_pretrained(model_path)\n",
    "tokenizer = T5Tokenizer.from_pretrained(model_path)\n",
    "\n",
    "device = torch.device(\"cuda\" if torch.cuda.is_available() else \"cpu\")\n",
    "model.to(device)\n",
    "\n",
    "def generate_output(input_text, model, tokenizer, device):\n",
    "    # Mã hóa văn bản đầu vào và chuyển sang thiết bị phù hợp\n",
    "    inputs = tokenizer(\n",
    "        input_text, return_tensors=\"pt\", max_length=512, truncation=True\n",
    "    ).to(device)\n",
    "    \n",
    "    # Gọi model.generate với các tham số kiểm soát đầu ra\n",
    "    outputs = model.generate(\n",
    "        **inputs,\n",
    "        max_length=128,\n",
    "        num_beams=5,              # sử dụng beam search với 5 beams\n",
    "        no_repeat_ngram_size=2,   # không lặp lại bất kỳ 2-gram nào\n",
    "        temperature=0.7,          # điều chỉnh mức độ ngẫu nhiên\n",
    "        top_k=50,                 # chỉ cân nhắc top 50 token có xác suất cao nhất\n",
    "        top_p=0.9,                # chọn token sao cho tổng xác suất đạt 0.9\n",
    "        repetition_penalty=1.2,   # áp dụng hình phạt cho token lặp lại\n",
    "        early_stopping=True       # dừng sớm nếu mọi beam đều kết thúc\n",
    "    )\n",
    "    \n",
    "    # Giải mã đầu ra thành văn bản\n",
    "    decoded_output = tokenizer.decode(outputs[0], skip_special_tokens=True)\n",
    "    return decoded_output\n",
    "\n",
    "# Ví dụ sử dụng:\n",
    "import torch\n",
    "device = torch.device(\"cuda\" if torch.cuda.is_available() else \"cpu\")\n",
    "\n",
    "# Giả sử bạn đã tải mô hình và tokenizer\n",
    "# model = T5ForConditionalGeneration.from_pretrained(\"your_model_checkpoint\")\n",
    "# tokenizer = T5Tokenizer.from_pretrained(\"your_model_checkpoint\")\n",
    "model.to(device)\n",
    "\n",
    "input_text = \"Recommend me a laptop with RTX 4080, i9 14th.\"\n",
    "result = generate_output(input_text, model, tokenizer, device)\n",
    "print(\"Extracted components:\", result)\n"
   ]
  },
  {
   "cell_type": "code",
   "execution_count": 126,
   "metadata": {},
   "outputs": [],
   "source": [
    "# model_path = paths[\"model\"]\n",
    "# model = T5ForConditionalGeneration.from_pretrained(model_path)\n",
    "# tokenizer = T5Tokenizer.from_pretrained(model_path)\n",
    "\n",
    "# device = torch.device(\"cuda\" if torch.cuda.is_available() else \"cpu\")\n",
    "# model.to(device)\n",
    "\n",
    "# def extract_components(question):\n",
    "#     input_text = question\n",
    "#     inputs = tokenizer(input_text, return_tensors=\"pt\", max_length=512, truncation=True).to(device)\n",
    "#     outputs = model.generate(**inputs, max_length=128)\n",
    "#     decoded_output = tokenizer.decode(outputs[0], skip_special_tokens=True)\n",
    "#     return decoded_output"
   ]
  },
  {
   "cell_type": "code",
   "execution_count": 127,
   "metadata": {},
   "outputs": [],
   "source": [
    "# question = \"recommend me a laptop asus have rtx 3060, i9 12900H, 16gb ram, 16inch screen\"\n",
    "# result = extract_components(question)\n",
    "# print(result)"
   ]
  }
 ],
 "metadata": {
  "kernelspec": {
   "display_name": "PyTorch",
   "language": "python",
   "name": "python3"
  },
  "language_info": {
   "codemirror_mode": {
    "name": "ipython",
    "version": 3
   },
   "file_extension": ".py",
   "mimetype": "text/x-python",
   "name": "python",
   "nbconvert_exporter": "python",
   "pygments_lexer": "ipython3",
   "version": "3.13.2"
  }
 },
 "nbformat": 4,
 "nbformat_minor": 2
}
