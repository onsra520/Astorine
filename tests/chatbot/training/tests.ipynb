{
 "cells": [
  {
   "cell_type": "code",
   "execution_count": 1,
   "metadata": {},
   "outputs": [
    {
     "ename": "ImportError",
     "evalue": "attempted relative import with no known parent package",
     "output_type": "error",
     "traceback": [
      "\u001b[1;31m---------------------------------------------------------------------------\u001b[0m",
      "\u001b[1;31mImportError\u001b[0m                               Traceback (most recent call last)",
      "Cell \u001b[1;32mIn[1], line 5\u001b[0m\n\u001b[0;32m      2\u001b[0m \u001b[38;5;28;01mimport\u001b[39;00m\u001b[38;5;250m \u001b[39m\u001b[38;5;21;01mpandas\u001b[39;00m\u001b[38;5;250m \u001b[39m\u001b[38;5;28;01mas\u001b[39;00m\u001b[38;5;250m \u001b[39m\u001b[38;5;21;01mpd\u001b[39;00m\n\u001b[0;32m      3\u001b[0m \u001b[38;5;28;01mfrom\u001b[39;00m\u001b[38;5;250m \u001b[39m\u001b[38;5;21;01mpathlib\u001b[39;00m\u001b[38;5;250m \u001b[39m\u001b[38;5;28;01mimport\u001b[39;00m Path\n\u001b[1;32m----> 5\u001b[0m \u001b[38;5;28;01mfrom\u001b[39;00m\u001b[38;5;250m \u001b[39m\u001b[38;5;21;01m.\u001b[39;00m\u001b[38;5;21;01mpipelines\u001b[39;00m\u001b[38;5;250m \u001b[39m\u001b[38;5;28;01mimport\u001b[39;00m transformers\n\u001b[0;32m      8\u001b[0m \u001b[38;5;66;03m# base_dir = Path(__file__).resolve().parents[1]\u001b[39;00m\n\u001b[0;32m      9\u001b[0m \u001b[38;5;66;03m# paths = {\u001b[39;00m\n\u001b[0;32m     10\u001b[0m \u001b[38;5;66;03m#     \"processed\": os.path.join(base_dir, \"storage\", \"processed\"),\u001b[39;00m\n\u001b[1;32m   (...)\u001b[0m\n\u001b[0;32m     14\u001b[0m \u001b[38;5;66;03m# }\u001b[39;00m\n\u001b[0;32m     15\u001b[0m \u001b[38;5;66;03m# os.makedirs(paths[\"encoders\"], exist_ok=True)\u001b[39;00m\n",
      "\u001b[1;31mImportError\u001b[0m: attempted relative import with no known parent package"
     ]
    }
   ],
   "source": [
    "import sys, os, joblib\n",
    "import pandas as pd\n",
    "from pathlib import Path\n",
    "\n",
    "from .pipelines import transformers\n",
    "\n",
    "\n",
    "# base_dir = Path(__file__).resolve().parents[1]\n",
    "# paths = {\n",
    "#     \"processed\": os.path.join(base_dir, \"storage\", \"processed\"),\n",
    "#     \"config\": os.path.join(base_dir, \"config\", \"config.json\"),\n",
    "#     \"models\": os.path.join(base_dir.parent, \"models\"),\n",
    "#     \"encoders\": os.path.join(base_dir.parent, \"models\", \"encoders\"),\n",
    "# }\n",
    "# os.makedirs(paths[\"encoders\"], exist_ok=True)"
   ]
  },
  {
   "cell_type": "code",
   "execution_count": null,
   "metadata": {},
   "outputs": [],
   "source": [
    "# transformer = datatransformer()\n",
    "# df = transformer.dataframe\n",
    "\n",
    "# df[\"SCORE\"] = 0.5 * df[\"CPU PASSMARK RESULT\"] + 0.5 * df[\"GPU PASSMARK (G3D) RESULT\"]\n",
    "\n",
    "# numerical_features = transformer.cat\n",
    "# import torch\n",
    "# import torch.nn as nn\n",
    "# # Xây dựng mô hình\n",
    "# class LaptopRanker(nn.Module):\n",
    "#     def __init__(self, num_brands, num_gpus, num_cpus, embedding_dim=8):\n",
    "#         super().__init__()\n",
    "#         # Embedding layers\n",
    "#         self.brand_embedding = nn.Embedding(num_brands, embedding_dim)\n",
    "#         self.gpu_embedding = nn.Embedding(num_gpus, embedding_dim)\n",
    "#         self.cpu_embedding = nn.Embedding(num_cpus, embedding_dim)\n",
    "#         # Fully connected layers\n",
    "#         self.fc = nn.Sequential(\n",
    "#             nn.Linear(embedding_dim * 3 + len(numerical_features), 256),\n",
    "#             nn.ReLU(),\n",
    "#             nn.Linear(256, 128),\n",
    "#             nn.ReLU(),\n",
    "#             nn.Linear(128, 1),\n",
    "#         )"
   ]
  },
  {
   "cell_type": "code",
   "execution_count": null,
   "metadata": {},
   "outputs": [],
   "source": [
    "# numerical_features"
   ]
  }
 ],
 "metadata": {
  "kernelspec": {
   "display_name": "Astorine",
   "language": "python",
   "name": "python3"
  },
  "language_info": {
   "codemirror_mode": {
    "name": "ipython",
    "version": 3
   },
   "file_extension": ".py",
   "mimetype": "text/x-python",
   "name": "python",
   "nbconvert_exporter": "python",
   "pygments_lexer": "ipython3",
   "version": "3.12.8"
  }
 },
 "nbformat": 4,
 "nbformat_minor": 2
}
